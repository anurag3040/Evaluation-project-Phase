{
 "cells": [
  {
   "cell_type": "markdown",
   "id": "8091fcd9",
   "metadata": {
    "papermill": {
     "duration": 0.017274,
     "end_time": "2023-08-07T09:40:38.352142",
     "exception": false,
     "start_time": "2023-08-07T09:40:38.334868",
     "status": "completed"
    },
    "tags": []
   },
   "source": [
    "## 1. Importing Libraries"
   ]
  },
  {
   "cell_type": "code",
   "execution_count": 1,
   "id": "f042d5ed",
   "metadata": {
    "execution": {
     "iopub.execute_input": "2023-08-07T09:40:38.389144Z",
     "iopub.status.busy": "2023-08-07T09:40:38.388733Z",
     "iopub.status.idle": "2023-08-07T09:40:39.819247Z",
     "shell.execute_reply": "2023-08-07T09:40:39.817995Z"
    },
    "papermill": {
     "duration": 1.452372,
     "end_time": "2023-08-07T09:40:39.822090",
     "exception": false,
     "start_time": "2023-08-07T09:40:38.369718",
     "status": "completed"
    },
    "tags": []
   },
   "outputs": [],
   "source": [
    "import pandas as pd\n",
    "import numpy as np\n",
    "import matplotlib.pyplot as plt\n",
    "%matplotlib inline\n",
    "import seaborn as sns\n",
    "from collections import Counter\n",
    "import warnings\n",
    "warnings.filterwarnings(\"ignore\")"
   ]
  },
  {
   "cell_type": "markdown",
   "id": "d70ffdb6",
   "metadata": {
    "papermill": {
     "duration": 0.017894,
     "end_time": "2023-08-07T09:40:39.857908",
     "exception": false,
     "start_time": "2023-08-07T09:40:39.840014",
     "status": "completed"
    },
    "tags": []
   },
   "source": [
    "## 2. Reading file"
   ]
  },
  {
   "cell_type": "code",
   "execution_count": 2,
   "id": "5a7155e8",
   "metadata": {
    "execution": {
     "iopub.execute_input": "2023-08-07T09:40:39.894545Z",
     "iopub.status.busy": "2023-08-07T09:40:39.894147Z",
     "iopub.status.idle": "2023-08-07T09:40:39.990746Z",
     "shell.execute_reply": "2023-08-07T09:40:39.989812Z"
    },
    "papermill": {
     "duration": 0.117786,
     "end_time": "2023-08-07T09:40:39.993123",
     "exception": false,
     "start_time": "2023-08-07T09:40:39.875337",
     "status": "completed"
    },
    "tags": []
   },
   "outputs": [
    {
     "data": {
      "text/html": [
       "<div>\n",
       "<style scoped>\n",
       "    .dataframe tbody tr th:only-of-type {\n",
       "        vertical-align: middle;\n",
       "    }\n",
       "\n",
       "    .dataframe tbody tr th {\n",
       "        vertical-align: top;\n",
       "    }\n",
       "\n",
       "    .dataframe thead th {\n",
       "        text-align: right;\n",
       "    }\n",
       "</style>\n",
       "<table border=\"1\" class=\"dataframe\">\n",
       "  <thead>\n",
       "    <tr style=\"text-align: right;\">\n",
       "      <th></th>\n",
       "      <th>Restaurant ID</th>\n",
       "      <th>Restaurant Name</th>\n",
       "      <th>Country Code</th>\n",
       "      <th>City</th>\n",
       "      <th>Address</th>\n",
       "      <th>Locality</th>\n",
       "      <th>Locality Verbose</th>\n",
       "      <th>Longitude</th>\n",
       "      <th>Latitude</th>\n",
       "      <th>Cuisines</th>\n",
       "      <th>...</th>\n",
       "      <th>Currency</th>\n",
       "      <th>Has Table booking</th>\n",
       "      <th>Has Online delivery</th>\n",
       "      <th>Is delivering now</th>\n",
       "      <th>Switch to order menu</th>\n",
       "      <th>Price range</th>\n",
       "      <th>Aggregate rating</th>\n",
       "      <th>Rating color</th>\n",
       "      <th>Rating text</th>\n",
       "      <th>Votes</th>\n",
       "    </tr>\n",
       "  </thead>\n",
       "  <tbody>\n",
       "    <tr>\n",
       "      <th>0</th>\n",
       "      <td>6317637</td>\n",
       "      <td>Le Petit Souffle</td>\n",
       "      <td>162</td>\n",
       "      <td>Makati City</td>\n",
       "      <td>Third Floor, Century City Mall, Kalayaan Avenu...</td>\n",
       "      <td>Century City Mall, Poblacion, Makati City</td>\n",
       "      <td>Century City Mall, Poblacion, Makati City, Mak...</td>\n",
       "      <td>121.027535</td>\n",
       "      <td>14.565443</td>\n",
       "      <td>French, Japanese, Desserts</td>\n",
       "      <td>...</td>\n",
       "      <td>Botswana Pula(P)</td>\n",
       "      <td>Yes</td>\n",
       "      <td>No</td>\n",
       "      <td>No</td>\n",
       "      <td>No</td>\n",
       "      <td>3</td>\n",
       "      <td>4.8</td>\n",
       "      <td>Dark Green</td>\n",
       "      <td>Excellent</td>\n",
       "      <td>314</td>\n",
       "    </tr>\n",
       "    <tr>\n",
       "      <th>1</th>\n",
       "      <td>6304287</td>\n",
       "      <td>Izakaya Kikufuji</td>\n",
       "      <td>162</td>\n",
       "      <td>Makati City</td>\n",
       "      <td>Little Tokyo, 2277 Chino Roces Avenue, Legaspi...</td>\n",
       "      <td>Little Tokyo, Legaspi Village, Makati City</td>\n",
       "      <td>Little Tokyo, Legaspi Village, Makati City, Ma...</td>\n",
       "      <td>121.014101</td>\n",
       "      <td>14.553708</td>\n",
       "      <td>Japanese</td>\n",
       "      <td>...</td>\n",
       "      <td>Botswana Pula(P)</td>\n",
       "      <td>Yes</td>\n",
       "      <td>No</td>\n",
       "      <td>No</td>\n",
       "      <td>No</td>\n",
       "      <td>3</td>\n",
       "      <td>4.5</td>\n",
       "      <td>Dark Green</td>\n",
       "      <td>Excellent</td>\n",
       "      <td>591</td>\n",
       "    </tr>\n",
       "    <tr>\n",
       "      <th>2</th>\n",
       "      <td>6300002</td>\n",
       "      <td>Heat - Edsa Shangri-La</td>\n",
       "      <td>162</td>\n",
       "      <td>Mandaluyong City</td>\n",
       "      <td>Edsa Shangri-La, 1 Garden Way, Ortigas, Mandal...</td>\n",
       "      <td>Edsa Shangri-La, Ortigas, Mandaluyong City</td>\n",
       "      <td>Edsa Shangri-La, Ortigas, Mandaluyong City, Ma...</td>\n",
       "      <td>121.056831</td>\n",
       "      <td>14.581404</td>\n",
       "      <td>Seafood, Asian, Filipino, Indian</td>\n",
       "      <td>...</td>\n",
       "      <td>Botswana Pula(P)</td>\n",
       "      <td>Yes</td>\n",
       "      <td>No</td>\n",
       "      <td>No</td>\n",
       "      <td>No</td>\n",
       "      <td>4</td>\n",
       "      <td>4.4</td>\n",
       "      <td>Green</td>\n",
       "      <td>Very Good</td>\n",
       "      <td>270</td>\n",
       "    </tr>\n",
       "    <tr>\n",
       "      <th>3</th>\n",
       "      <td>6318506</td>\n",
       "      <td>Ooma</td>\n",
       "      <td>162</td>\n",
       "      <td>Mandaluyong City</td>\n",
       "      <td>Third Floor, Mega Fashion Hall, SM Megamall, O...</td>\n",
       "      <td>SM Megamall, Ortigas, Mandaluyong City</td>\n",
       "      <td>SM Megamall, Ortigas, Mandaluyong City, Mandal...</td>\n",
       "      <td>121.056475</td>\n",
       "      <td>14.585318</td>\n",
       "      <td>Japanese, Sushi</td>\n",
       "      <td>...</td>\n",
       "      <td>Botswana Pula(P)</td>\n",
       "      <td>No</td>\n",
       "      <td>No</td>\n",
       "      <td>No</td>\n",
       "      <td>No</td>\n",
       "      <td>4</td>\n",
       "      <td>4.9</td>\n",
       "      <td>Dark Green</td>\n",
       "      <td>Excellent</td>\n",
       "      <td>365</td>\n",
       "    </tr>\n",
       "    <tr>\n",
       "      <th>4</th>\n",
       "      <td>6314302</td>\n",
       "      <td>Sambo Kojin</td>\n",
       "      <td>162</td>\n",
       "      <td>Mandaluyong City</td>\n",
       "      <td>Third Floor, Mega Atrium, SM Megamall, Ortigas...</td>\n",
       "      <td>SM Megamall, Ortigas, Mandaluyong City</td>\n",
       "      <td>SM Megamall, Ortigas, Mandaluyong City, Mandal...</td>\n",
       "      <td>121.057508</td>\n",
       "      <td>14.584450</td>\n",
       "      <td>Japanese, Korean</td>\n",
       "      <td>...</td>\n",
       "      <td>Botswana Pula(P)</td>\n",
       "      <td>Yes</td>\n",
       "      <td>No</td>\n",
       "      <td>No</td>\n",
       "      <td>No</td>\n",
       "      <td>4</td>\n",
       "      <td>4.8</td>\n",
       "      <td>Dark Green</td>\n",
       "      <td>Excellent</td>\n",
       "      <td>229</td>\n",
       "    </tr>\n",
       "    <tr>\n",
       "      <th>...</th>\n",
       "      <td>...</td>\n",
       "      <td>...</td>\n",
       "      <td>...</td>\n",
       "      <td>...</td>\n",
       "      <td>...</td>\n",
       "      <td>...</td>\n",
       "      <td>...</td>\n",
       "      <td>...</td>\n",
       "      <td>...</td>\n",
       "      <td>...</td>\n",
       "      <td>...</td>\n",
       "      <td>...</td>\n",
       "      <td>...</td>\n",
       "      <td>...</td>\n",
       "      <td>...</td>\n",
       "      <td>...</td>\n",
       "      <td>...</td>\n",
       "      <td>...</td>\n",
       "      <td>...</td>\n",
       "      <td>...</td>\n",
       "      <td>...</td>\n",
       "    </tr>\n",
       "    <tr>\n",
       "      <th>9546</th>\n",
       "      <td>5915730</td>\n",
       "      <td>NamlÛ± Gurme</td>\n",
       "      <td>208</td>\n",
       "      <td>ÛÁstanbul</td>\n",
       "      <td>Kemankeô Karamustafa Paôa Mahallesi, RÛ±htÛ±...</td>\n",
       "      <td>Karakí_y</td>\n",
       "      <td>Karakí_y, ÛÁstanbul</td>\n",
       "      <td>28.977392</td>\n",
       "      <td>41.022793</td>\n",
       "      <td>Turkish</td>\n",
       "      <td>...</td>\n",
       "      <td>Turkish Lira(TL)</td>\n",
       "      <td>No</td>\n",
       "      <td>No</td>\n",
       "      <td>No</td>\n",
       "      <td>No</td>\n",
       "      <td>3</td>\n",
       "      <td>4.1</td>\n",
       "      <td>Green</td>\n",
       "      <td>Very Good</td>\n",
       "      <td>788</td>\n",
       "    </tr>\n",
       "    <tr>\n",
       "      <th>9547</th>\n",
       "      <td>5908749</td>\n",
       "      <td>Ceviz AÛôacÛ±</td>\n",
       "      <td>208</td>\n",
       "      <td>ÛÁstanbul</td>\n",
       "      <td>Koôuyolu Mahallesi, Muhittin íìstí_ndaÛô Cadd...</td>\n",
       "      <td>Koôuyolu</td>\n",
       "      <td>Koôuyolu, ÛÁstanbul</td>\n",
       "      <td>29.041297</td>\n",
       "      <td>41.009847</td>\n",
       "      <td>World Cuisine, Patisserie, Cafe</td>\n",
       "      <td>...</td>\n",
       "      <td>Turkish Lira(TL)</td>\n",
       "      <td>No</td>\n",
       "      <td>No</td>\n",
       "      <td>No</td>\n",
       "      <td>No</td>\n",
       "      <td>3</td>\n",
       "      <td>4.2</td>\n",
       "      <td>Green</td>\n",
       "      <td>Very Good</td>\n",
       "      <td>1034</td>\n",
       "    </tr>\n",
       "    <tr>\n",
       "      <th>9548</th>\n",
       "      <td>5915807</td>\n",
       "      <td>Huqqa</td>\n",
       "      <td>208</td>\n",
       "      <td>ÛÁstanbul</td>\n",
       "      <td>Kuruí_eôme Mahallesi, Muallim Naci Caddesi, N...</td>\n",
       "      <td>Kuruí_eôme</td>\n",
       "      <td>Kuruí_eôme, ÛÁstanbul</td>\n",
       "      <td>29.034640</td>\n",
       "      <td>41.055817</td>\n",
       "      <td>Italian, World Cuisine</td>\n",
       "      <td>...</td>\n",
       "      <td>Turkish Lira(TL)</td>\n",
       "      <td>No</td>\n",
       "      <td>No</td>\n",
       "      <td>No</td>\n",
       "      <td>No</td>\n",
       "      <td>4</td>\n",
       "      <td>3.7</td>\n",
       "      <td>Yellow</td>\n",
       "      <td>Good</td>\n",
       "      <td>661</td>\n",
       "    </tr>\n",
       "    <tr>\n",
       "      <th>9549</th>\n",
       "      <td>5916112</td>\n",
       "      <td>Aôôk Kahve</td>\n",
       "      <td>208</td>\n",
       "      <td>ÛÁstanbul</td>\n",
       "      <td>Kuruí_eôme Mahallesi, Muallim Naci Caddesi, N...</td>\n",
       "      <td>Kuruí_eôme</td>\n",
       "      <td>Kuruí_eôme, ÛÁstanbul</td>\n",
       "      <td>29.036019</td>\n",
       "      <td>41.057979</td>\n",
       "      <td>Restaurant Cafe</td>\n",
       "      <td>...</td>\n",
       "      <td>Turkish Lira(TL)</td>\n",
       "      <td>No</td>\n",
       "      <td>No</td>\n",
       "      <td>No</td>\n",
       "      <td>No</td>\n",
       "      <td>4</td>\n",
       "      <td>4.0</td>\n",
       "      <td>Green</td>\n",
       "      <td>Very Good</td>\n",
       "      <td>901</td>\n",
       "    </tr>\n",
       "    <tr>\n",
       "      <th>9550</th>\n",
       "      <td>5927402</td>\n",
       "      <td>Walter's Coffee Roastery</td>\n",
       "      <td>208</td>\n",
       "      <td>ÛÁstanbul</td>\n",
       "      <td>CafeaÛôa Mahallesi, BademaltÛ± Sokak, No 21/B,...</td>\n",
       "      <td>Moda</td>\n",
       "      <td>Moda, ÛÁstanbul</td>\n",
       "      <td>29.026016</td>\n",
       "      <td>40.984776</td>\n",
       "      <td>Cafe</td>\n",
       "      <td>...</td>\n",
       "      <td>Turkish Lira(TL)</td>\n",
       "      <td>No</td>\n",
       "      <td>No</td>\n",
       "      <td>No</td>\n",
       "      <td>No</td>\n",
       "      <td>2</td>\n",
       "      <td>4.0</td>\n",
       "      <td>Green</td>\n",
       "      <td>Very Good</td>\n",
       "      <td>591</td>\n",
       "    </tr>\n",
       "  </tbody>\n",
       "</table>\n",
       "<p>9551 rows × 21 columns</p>\n",
       "</div>"
      ],
      "text/plain": [
       "      Restaurant ID           Restaurant Name  Country Code              City  \\\n",
       "0           6317637          Le Petit Souffle           162       Makati City   \n",
       "1           6304287          Izakaya Kikufuji           162       Makati City   \n",
       "2           6300002    Heat - Edsa Shangri-La           162  Mandaluyong City   \n",
       "3           6318506                      Ooma           162  Mandaluyong City   \n",
       "4           6314302               Sambo Kojin           162  Mandaluyong City   \n",
       "...             ...                       ...           ...               ...   \n",
       "9546        5915730              NamlÛ± Gurme           208         ÛÁstanbul   \n",
       "9547        5908749             Ceviz AÛôacÛ±           208         ÛÁstanbul   \n",
       "9548        5915807                     Huqqa           208         ÛÁstanbul   \n",
       "9549        5916112              Aôôk Kahve           208         ÛÁstanbul   \n",
       "9550        5927402  Walter's Coffee Roastery           208         ÛÁstanbul   \n",
       "\n",
       "                                                Address  \\\n",
       "0     Third Floor, Century City Mall, Kalayaan Avenu...   \n",
       "1     Little Tokyo, 2277 Chino Roces Avenue, Legaspi...   \n",
       "2     Edsa Shangri-La, 1 Garden Way, Ortigas, Mandal...   \n",
       "3     Third Floor, Mega Fashion Hall, SM Megamall, O...   \n",
       "4     Third Floor, Mega Atrium, SM Megamall, Ortigas...   \n",
       "...                                                 ...   \n",
       "9546  Kemankeô Karamustafa Paôa Mahallesi, RÛ±htÛ±...   \n",
       "9547  Koôuyolu Mahallesi, Muhittin íìstí_ndaÛô Cadd...   \n",
       "9548  Kuruí_eôme Mahallesi, Muallim Naci Caddesi, N...   \n",
       "9549  Kuruí_eôme Mahallesi, Muallim Naci Caddesi, N...   \n",
       "9550  CafeaÛôa Mahallesi, BademaltÛ± Sokak, No 21/B,...   \n",
       "\n",
       "                                        Locality  \\\n",
       "0      Century City Mall, Poblacion, Makati City   \n",
       "1     Little Tokyo, Legaspi Village, Makati City   \n",
       "2     Edsa Shangri-La, Ortigas, Mandaluyong City   \n",
       "3         SM Megamall, Ortigas, Mandaluyong City   \n",
       "4         SM Megamall, Ortigas, Mandaluyong City   \n",
       "...                                          ...   \n",
       "9546                                    Karakí_y   \n",
       "9547                                   Koôuyolu   \n",
       "9548                                 Kuruí_eôme   \n",
       "9549                                 Kuruí_eôme   \n",
       "9550                                        Moda   \n",
       "\n",
       "                                       Locality Verbose   Longitude  \\\n",
       "0     Century City Mall, Poblacion, Makati City, Mak...  121.027535   \n",
       "1     Little Tokyo, Legaspi Village, Makati City, Ma...  121.014101   \n",
       "2     Edsa Shangri-La, Ortigas, Mandaluyong City, Ma...  121.056831   \n",
       "3     SM Megamall, Ortigas, Mandaluyong City, Mandal...  121.056475   \n",
       "4     SM Megamall, Ortigas, Mandaluyong City, Mandal...  121.057508   \n",
       "...                                                 ...         ...   \n",
       "9546                                Karakí_y, ÛÁstanbul   28.977392   \n",
       "9547                               Koôuyolu, ÛÁstanbul   29.041297   \n",
       "9548                             Kuruí_eôme, ÛÁstanbul   29.034640   \n",
       "9549                             Kuruí_eôme, ÛÁstanbul   29.036019   \n",
       "9550                                    Moda, ÛÁstanbul   29.026016   \n",
       "\n",
       "       Latitude                          Cuisines  ...          Currency  \\\n",
       "0     14.565443        French, Japanese, Desserts  ...  Botswana Pula(P)   \n",
       "1     14.553708                          Japanese  ...  Botswana Pula(P)   \n",
       "2     14.581404  Seafood, Asian, Filipino, Indian  ...  Botswana Pula(P)   \n",
       "3     14.585318                   Japanese, Sushi  ...  Botswana Pula(P)   \n",
       "4     14.584450                  Japanese, Korean  ...  Botswana Pula(P)   \n",
       "...         ...                               ...  ...               ...   \n",
       "9546  41.022793                           Turkish  ...  Turkish Lira(TL)   \n",
       "9547  41.009847   World Cuisine, Patisserie, Cafe  ...  Turkish Lira(TL)   \n",
       "9548  41.055817            Italian, World Cuisine  ...  Turkish Lira(TL)   \n",
       "9549  41.057979                   Restaurant Cafe  ...  Turkish Lira(TL)   \n",
       "9550  40.984776                              Cafe  ...  Turkish Lira(TL)   \n",
       "\n",
       "     Has Table booking Has Online delivery Is delivering now  \\\n",
       "0                  Yes                  No                No   \n",
       "1                  Yes                  No                No   \n",
       "2                  Yes                  No                No   \n",
       "3                   No                  No                No   \n",
       "4                  Yes                  No                No   \n",
       "...                ...                 ...               ...   \n",
       "9546                No                  No                No   \n",
       "9547                No                  No                No   \n",
       "9548                No                  No                No   \n",
       "9549                No                  No                No   \n",
       "9550                No                  No                No   \n",
       "\n",
       "     Switch to order menu Price range  Aggregate rating  Rating color  \\\n",
       "0                      No           3               4.8    Dark Green   \n",
       "1                      No           3               4.5    Dark Green   \n",
       "2                      No           4               4.4         Green   \n",
       "3                      No           4               4.9    Dark Green   \n",
       "4                      No           4               4.8    Dark Green   \n",
       "...                   ...         ...               ...           ...   \n",
       "9546                   No           3               4.1         Green   \n",
       "9547                   No           3               4.2         Green   \n",
       "9548                   No           4               3.7        Yellow   \n",
       "9549                   No           4               4.0         Green   \n",
       "9550                   No           2               4.0         Green   \n",
       "\n",
       "     Rating text Votes  \n",
       "0      Excellent   314  \n",
       "1      Excellent   591  \n",
       "2      Very Good   270  \n",
       "3      Excellent   365  \n",
       "4      Excellent   229  \n",
       "...          ...   ...  \n",
       "9546   Very Good   788  \n",
       "9547   Very Good  1034  \n",
       "9548        Good   661  \n",
       "9549   Very Good   901  \n",
       "9550   Very Good   591  \n",
       "\n",
       "[9551 rows x 21 columns]"
      ]
     },
     "execution_count": 2,
     "metadata": {},
     "output_type": "execute_result"
    }
   ],
   "source": [
    "df = pd.read_csv(r'https://raw.githubusercontent.com/dsrscientist/dataset4/main/zomato.csv',encoding='latin-1')\n",
    "df"
   ]
  },
  {
   "cell_type": "code",
   "execution_count": 3,
   "id": "12dd9f17",
   "metadata": {
    "execution": {
     "iopub.execute_input": "2023-08-07T09:40:40.032630Z",
     "iopub.status.busy": "2023-08-07T09:40:40.031810Z",
     "iopub.status.idle": "2023-08-07T09:40:40.070845Z",
     "shell.execute_reply": "2023-08-07T09:40:40.069740Z"
    },
    "papermill": {
     "duration": 0.061805,
     "end_time": "2023-08-07T09:40:40.072913",
     "exception": false,
     "start_time": "2023-08-07T09:40:40.011108",
     "status": "completed"
    },
    "tags": []
   },
   "outputs": [
    {
     "data": {
      "text/html": [
       "<div>\n",
       "<style scoped>\n",
       "    .dataframe tbody tr th:only-of-type {\n",
       "        vertical-align: middle;\n",
       "    }\n",
       "\n",
       "    .dataframe tbody tr th {\n",
       "        vertical-align: top;\n",
       "    }\n",
       "\n",
       "    .dataframe thead th {\n",
       "        text-align: right;\n",
       "    }\n",
       "</style>\n",
       "<table border=\"1\" class=\"dataframe\">\n",
       "  <thead>\n",
       "    <tr style=\"text-align: right;\">\n",
       "      <th></th>\n",
       "      <th>Restaurant ID</th>\n",
       "      <th>Restaurant Name</th>\n",
       "      <th>Country Code</th>\n",
       "      <th>City</th>\n",
       "      <th>Address</th>\n",
       "      <th>Locality</th>\n",
       "      <th>Locality Verbose</th>\n",
       "      <th>Longitude</th>\n",
       "      <th>Latitude</th>\n",
       "      <th>Cuisines</th>\n",
       "      <th>...</th>\n",
       "      <th>Currency</th>\n",
       "      <th>Has Table booking</th>\n",
       "      <th>Has Online delivery</th>\n",
       "      <th>Is delivering now</th>\n",
       "      <th>Switch to order menu</th>\n",
       "      <th>Price range</th>\n",
       "      <th>Aggregate rating</th>\n",
       "      <th>Rating color</th>\n",
       "      <th>Rating text</th>\n",
       "      <th>Votes</th>\n",
       "    </tr>\n",
       "  </thead>\n",
       "  <tbody>\n",
       "    <tr>\n",
       "      <th>0</th>\n",
       "      <td>6317637</td>\n",
       "      <td>Le Petit Souffle</td>\n",
       "      <td>162</td>\n",
       "      <td>Makati City</td>\n",
       "      <td>Third Floor, Century City Mall, Kalayaan Avenu...</td>\n",
       "      <td>Century City Mall, Poblacion, Makati City</td>\n",
       "      <td>Century City Mall, Poblacion, Makati City, Mak...</td>\n",
       "      <td>121.027535</td>\n",
       "      <td>14.565443</td>\n",
       "      <td>French, Japanese, Desserts</td>\n",
       "      <td>...</td>\n",
       "      <td>Botswana Pula(P)</td>\n",
       "      <td>Yes</td>\n",
       "      <td>No</td>\n",
       "      <td>No</td>\n",
       "      <td>No</td>\n",
       "      <td>3</td>\n",
       "      <td>4.8</td>\n",
       "      <td>Dark Green</td>\n",
       "      <td>Excellent</td>\n",
       "      <td>314</td>\n",
       "    </tr>\n",
       "    <tr>\n",
       "      <th>1</th>\n",
       "      <td>6304287</td>\n",
       "      <td>Izakaya Kikufuji</td>\n",
       "      <td>162</td>\n",
       "      <td>Makati City</td>\n",
       "      <td>Little Tokyo, 2277 Chino Roces Avenue, Legaspi...</td>\n",
       "      <td>Little Tokyo, Legaspi Village, Makati City</td>\n",
       "      <td>Little Tokyo, Legaspi Village, Makati City, Ma...</td>\n",
       "      <td>121.014101</td>\n",
       "      <td>14.553708</td>\n",
       "      <td>Japanese</td>\n",
       "      <td>...</td>\n",
       "      <td>Botswana Pula(P)</td>\n",
       "      <td>Yes</td>\n",
       "      <td>No</td>\n",
       "      <td>No</td>\n",
       "      <td>No</td>\n",
       "      <td>3</td>\n",
       "      <td>4.5</td>\n",
       "      <td>Dark Green</td>\n",
       "      <td>Excellent</td>\n",
       "      <td>591</td>\n",
       "    </tr>\n",
       "    <tr>\n",
       "      <th>2</th>\n",
       "      <td>6300002</td>\n",
       "      <td>Heat - Edsa Shangri-La</td>\n",
       "      <td>162</td>\n",
       "      <td>Mandaluyong City</td>\n",
       "      <td>Edsa Shangri-La, 1 Garden Way, Ortigas, Mandal...</td>\n",
       "      <td>Edsa Shangri-La, Ortigas, Mandaluyong City</td>\n",
       "      <td>Edsa Shangri-La, Ortigas, Mandaluyong City, Ma...</td>\n",
       "      <td>121.056831</td>\n",
       "      <td>14.581404</td>\n",
       "      <td>Seafood, Asian, Filipino, Indian</td>\n",
       "      <td>...</td>\n",
       "      <td>Botswana Pula(P)</td>\n",
       "      <td>Yes</td>\n",
       "      <td>No</td>\n",
       "      <td>No</td>\n",
       "      <td>No</td>\n",
       "      <td>4</td>\n",
       "      <td>4.4</td>\n",
       "      <td>Green</td>\n",
       "      <td>Very Good</td>\n",
       "      <td>270</td>\n",
       "    </tr>\n",
       "    <tr>\n",
       "      <th>3</th>\n",
       "      <td>6318506</td>\n",
       "      <td>Ooma</td>\n",
       "      <td>162</td>\n",
       "      <td>Mandaluyong City</td>\n",
       "      <td>Third Floor, Mega Fashion Hall, SM Megamall, O...</td>\n",
       "      <td>SM Megamall, Ortigas, Mandaluyong City</td>\n",
       "      <td>SM Megamall, Ortigas, Mandaluyong City, Mandal...</td>\n",
       "      <td>121.056475</td>\n",
       "      <td>14.585318</td>\n",
       "      <td>Japanese, Sushi</td>\n",
       "      <td>...</td>\n",
       "      <td>Botswana Pula(P)</td>\n",
       "      <td>No</td>\n",
       "      <td>No</td>\n",
       "      <td>No</td>\n",
       "      <td>No</td>\n",
       "      <td>4</td>\n",
       "      <td>4.9</td>\n",
       "      <td>Dark Green</td>\n",
       "      <td>Excellent</td>\n",
       "      <td>365</td>\n",
       "    </tr>\n",
       "    <tr>\n",
       "      <th>4</th>\n",
       "      <td>6314302</td>\n",
       "      <td>Sambo Kojin</td>\n",
       "      <td>162</td>\n",
       "      <td>Mandaluyong City</td>\n",
       "      <td>Third Floor, Mega Atrium, SM Megamall, Ortigas...</td>\n",
       "      <td>SM Megamall, Ortigas, Mandaluyong City</td>\n",
       "      <td>SM Megamall, Ortigas, Mandaluyong City, Mandal...</td>\n",
       "      <td>121.057508</td>\n",
       "      <td>14.584450</td>\n",
       "      <td>Japanese, Korean</td>\n",
       "      <td>...</td>\n",
       "      <td>Botswana Pula(P)</td>\n",
       "      <td>Yes</td>\n",
       "      <td>No</td>\n",
       "      <td>No</td>\n",
       "      <td>No</td>\n",
       "      <td>4</td>\n",
       "      <td>4.8</td>\n",
       "      <td>Dark Green</td>\n",
       "      <td>Excellent</td>\n",
       "      <td>229</td>\n",
       "    </tr>\n",
       "  </tbody>\n",
       "</table>\n",
       "<p>5 rows × 21 columns</p>\n",
       "</div>"
      ],
      "text/plain": [
       "   Restaurant ID         Restaurant Name  Country Code              City  \\\n",
       "0        6317637        Le Petit Souffle           162       Makati City   \n",
       "1        6304287        Izakaya Kikufuji           162       Makati City   \n",
       "2        6300002  Heat - Edsa Shangri-La           162  Mandaluyong City   \n",
       "3        6318506                    Ooma           162  Mandaluyong City   \n",
       "4        6314302             Sambo Kojin           162  Mandaluyong City   \n",
       "\n",
       "                                             Address  \\\n",
       "0  Third Floor, Century City Mall, Kalayaan Avenu...   \n",
       "1  Little Tokyo, 2277 Chino Roces Avenue, Legaspi...   \n",
       "2  Edsa Shangri-La, 1 Garden Way, Ortigas, Mandal...   \n",
       "3  Third Floor, Mega Fashion Hall, SM Megamall, O...   \n",
       "4  Third Floor, Mega Atrium, SM Megamall, Ortigas...   \n",
       "\n",
       "                                     Locality  \\\n",
       "0   Century City Mall, Poblacion, Makati City   \n",
       "1  Little Tokyo, Legaspi Village, Makati City   \n",
       "2  Edsa Shangri-La, Ortigas, Mandaluyong City   \n",
       "3      SM Megamall, Ortigas, Mandaluyong City   \n",
       "4      SM Megamall, Ortigas, Mandaluyong City   \n",
       "\n",
       "                                    Locality Verbose   Longitude   Latitude  \\\n",
       "0  Century City Mall, Poblacion, Makati City, Mak...  121.027535  14.565443   \n",
       "1  Little Tokyo, Legaspi Village, Makati City, Ma...  121.014101  14.553708   \n",
       "2  Edsa Shangri-La, Ortigas, Mandaluyong City, Ma...  121.056831  14.581404   \n",
       "3  SM Megamall, Ortigas, Mandaluyong City, Mandal...  121.056475  14.585318   \n",
       "4  SM Megamall, Ortigas, Mandaluyong City, Mandal...  121.057508  14.584450   \n",
       "\n",
       "                           Cuisines  ...          Currency Has Table booking  \\\n",
       "0        French, Japanese, Desserts  ...  Botswana Pula(P)               Yes   \n",
       "1                          Japanese  ...  Botswana Pula(P)               Yes   \n",
       "2  Seafood, Asian, Filipino, Indian  ...  Botswana Pula(P)               Yes   \n",
       "3                   Japanese, Sushi  ...  Botswana Pula(P)                No   \n",
       "4                  Japanese, Korean  ...  Botswana Pula(P)               Yes   \n",
       "\n",
       "  Has Online delivery Is delivering now Switch to order menu Price range  \\\n",
       "0                  No                No                   No           3   \n",
       "1                  No                No                   No           3   \n",
       "2                  No                No                   No           4   \n",
       "3                  No                No                   No           4   \n",
       "4                  No                No                   No           4   \n",
       "\n",
       "   Aggregate rating  Rating color Rating text Votes  \n",
       "0               4.8    Dark Green   Excellent   314  \n",
       "1               4.5    Dark Green   Excellent   591  \n",
       "2               4.4         Green   Very Good   270  \n",
       "3               4.9    Dark Green   Excellent   365  \n",
       "4               4.8    Dark Green   Excellent   229  \n",
       "\n",
       "[5 rows x 21 columns]"
      ]
     },
     "execution_count": 3,
     "metadata": {},
     "output_type": "execute_result"
    }
   ],
   "source": [
    "df.head()"
   ]
  },
  {
   "cell_type": "code",
   "execution_count": 4,
   "id": "c48d107f",
   "metadata": {
    "execution": {
     "iopub.execute_input": "2023-08-07T09:40:40.114172Z",
     "iopub.status.busy": "2023-08-07T09:40:40.113481Z",
     "iopub.status.idle": "2023-08-07T09:40:40.119664Z",
     "shell.execute_reply": "2023-08-07T09:40:40.118663Z"
    },
    "papermill": {
     "duration": 0.03106,
     "end_time": "2023-08-07T09:40:40.121828",
     "exception": false,
     "start_time": "2023-08-07T09:40:40.090768",
     "status": "completed"
    },
    "tags": []
   },
   "outputs": [
    {
     "data": {
      "text/plain": [
       "Index(['Restaurant ID', 'Restaurant Name', 'Country Code', 'City', 'Address',\n",
       "       'Locality', 'Locality Verbose', 'Longitude', 'Latitude', 'Cuisines',\n",
       "       'Average Cost for two', 'Currency', 'Has Table booking',\n",
       "       'Has Online delivery', 'Is delivering now', 'Switch to order menu',\n",
       "       'Price range', 'Aggregate rating', 'Rating color', 'Rating text',\n",
       "       'Votes'],\n",
       "      dtype='object')"
      ]
     },
     "execution_count": 4,
     "metadata": {},
     "output_type": "execute_result"
    }
   ],
   "source": [
    "df.columns"
   ]
  },
  {
   "cell_type": "markdown",
   "id": "fe04fee5",
   "metadata": {
    "papermill": {
     "duration": 0.018279,
     "end_time": "2023-08-07T09:40:40.158122",
     "exception": false,
     "start_time": "2023-08-07T09:40:40.139843",
     "status": "completed"
    },
    "tags": []
   },
   "source": [
    "### 2.1 Combining Country Code with the original dataset"
   ]
  },
  {
   "cell_type": "code",
   "execution_count": 5,
   "id": "9a14602f",
   "metadata": {
    "execution": {
     "iopub.execute_input": "2023-08-07T09:40:40.196876Z",
     "iopub.status.busy": "2023-08-07T09:40:40.196229Z",
     "iopub.status.idle": "2023-08-07T09:40:40.578263Z",
     "shell.execute_reply": "2023-08-07T09:40:40.577108Z"
    },
    "papermill": {
     "duration": 0.404188,
     "end_time": "2023-08-07T09:40:40.580778",
     "exception": false,
     "start_time": "2023-08-07T09:40:40.176590",
     "status": "completed"
    },
    "tags": []
   },
   "outputs": [
    {
     "data": {
      "text/html": [
       "<div>\n",
       "<style scoped>\n",
       "    .dataframe tbody tr th:only-of-type {\n",
       "        vertical-align: middle;\n",
       "    }\n",
       "\n",
       "    .dataframe tbody tr th {\n",
       "        vertical-align: top;\n",
       "    }\n",
       "\n",
       "    .dataframe thead th {\n",
       "        text-align: right;\n",
       "    }\n",
       "</style>\n",
       "<table border=\"1\" class=\"dataframe\">\n",
       "  <thead>\n",
       "    <tr style=\"text-align: right;\">\n",
       "      <th></th>\n",
       "      <th>Country Code</th>\n",
       "      <th>Country</th>\n",
       "    </tr>\n",
       "  </thead>\n",
       "  <tbody>\n",
       "    <tr>\n",
       "      <th>0</th>\n",
       "      <td>1</td>\n",
       "      <td>India</td>\n",
       "    </tr>\n",
       "    <tr>\n",
       "      <th>1</th>\n",
       "      <td>14</td>\n",
       "      <td>Australia</td>\n",
       "    </tr>\n",
       "    <tr>\n",
       "      <th>2</th>\n",
       "      <td>30</td>\n",
       "      <td>Brazil</td>\n",
       "    </tr>\n",
       "    <tr>\n",
       "      <th>3</th>\n",
       "      <td>37</td>\n",
       "      <td>Canada</td>\n",
       "    </tr>\n",
       "    <tr>\n",
       "      <th>4</th>\n",
       "      <td>94</td>\n",
       "      <td>Indonesia</td>\n",
       "    </tr>\n",
       "  </tbody>\n",
       "</table>\n",
       "</div>"
      ],
      "text/plain": [
       "   Country Code    Country\n",
       "0             1      India\n",
       "1            14  Australia\n",
       "2            30     Brazil\n",
       "3            37     Canada\n",
       "4            94  Indonesia"
      ]
     },
     "execution_count": 5,
     "metadata": {},
     "output_type": "execute_result"
    }
   ],
   "source": [
    "country_codes = pd.read_excel(r'S:\\DS_CLASSES\\FlipRobo\\DS2303\\Evaluation Projects\\P3\\Country-Code.xlsx')\n",
    "country_codes.head()"
   ]
  },
  {
   "cell_type": "code",
   "execution_count": 6,
   "id": "df5a764f",
   "metadata": {
    "execution": {
     "iopub.execute_input": "2023-08-07T09:40:40.620594Z",
     "iopub.status.busy": "2023-08-07T09:40:40.619647Z",
     "iopub.status.idle": "2023-08-07T09:40:40.640549Z",
     "shell.execute_reply": "2023-08-07T09:40:40.639374Z"
    },
    "papermill": {
     "duration": 0.043541,
     "end_time": "2023-08-07T09:40:40.643104",
     "exception": false,
     "start_time": "2023-08-07T09:40:40.599563",
     "status": "completed"
    },
    "tags": []
   },
   "outputs": [],
   "source": [
    "data = pd.merge(df,country_codes,how='left',on='Country Code')"
   ]
  },
  {
   "cell_type": "code",
   "execution_count": 7,
   "id": "902ec156",
   "metadata": {
    "execution": {
     "iopub.execute_input": "2023-08-07T09:40:40.681575Z",
     "iopub.status.busy": "2023-08-07T09:40:40.681118Z",
     "iopub.status.idle": "2023-08-07T09:40:40.689550Z",
     "shell.execute_reply": "2023-08-07T09:40:40.688723Z"
    },
    "papermill": {
     "duration": 0.030194,
     "end_time": "2023-08-07T09:40:40.691716",
     "exception": false,
     "start_time": "2023-08-07T09:40:40.661522",
     "status": "completed"
    },
    "tags": []
   },
   "outputs": [],
   "source": [
    "data.drop(['Country Code','Address','Locality','Locality Verbose','Longitude', 'Latitude'],axis=1,inplace=True)"
   ]
  },
  {
   "cell_type": "code",
   "execution_count": 8,
   "id": "25b5c3cd",
   "metadata": {
    "execution": {
     "iopub.execute_input": "2023-08-07T09:40:40.731273Z",
     "iopub.status.busy": "2023-08-07T09:40:40.730644Z",
     "iopub.status.idle": "2023-08-07T09:40:40.748178Z",
     "shell.execute_reply": "2023-08-07T09:40:40.747155Z"
    },
    "papermill": {
     "duration": 0.040194,
     "end_time": "2023-08-07T09:40:40.750668",
     "exception": false,
     "start_time": "2023-08-07T09:40:40.710474",
     "status": "completed"
    },
    "tags": []
   },
   "outputs": [
    {
     "data": {
      "text/html": [
       "<div>\n",
       "<style scoped>\n",
       "    .dataframe tbody tr th:only-of-type {\n",
       "        vertical-align: middle;\n",
       "    }\n",
       "\n",
       "    .dataframe tbody tr th {\n",
       "        vertical-align: top;\n",
       "    }\n",
       "\n",
       "    .dataframe thead th {\n",
       "        text-align: right;\n",
       "    }\n",
       "</style>\n",
       "<table border=\"1\" class=\"dataframe\">\n",
       "  <thead>\n",
       "    <tr style=\"text-align: right;\">\n",
       "      <th></th>\n",
       "      <th>Restaurant ID</th>\n",
       "      <th>Restaurant Name</th>\n",
       "      <th>City</th>\n",
       "      <th>Cuisines</th>\n",
       "      <th>Average Cost for two</th>\n",
       "      <th>Currency</th>\n",
       "      <th>Has Table booking</th>\n",
       "      <th>Has Online delivery</th>\n",
       "      <th>Is delivering now</th>\n",
       "      <th>Switch to order menu</th>\n",
       "      <th>Price range</th>\n",
       "      <th>Aggregate rating</th>\n",
       "      <th>Rating color</th>\n",
       "      <th>Rating text</th>\n",
       "      <th>Votes</th>\n",
       "      <th>Country</th>\n",
       "    </tr>\n",
       "  </thead>\n",
       "  <tbody>\n",
       "    <tr>\n",
       "      <th>0</th>\n",
       "      <td>6317637</td>\n",
       "      <td>Le Petit Souffle</td>\n",
       "      <td>Makati City</td>\n",
       "      <td>French, Japanese, Desserts</td>\n",
       "      <td>1100</td>\n",
       "      <td>Botswana Pula(P)</td>\n",
       "      <td>Yes</td>\n",
       "      <td>No</td>\n",
       "      <td>No</td>\n",
       "      <td>No</td>\n",
       "      <td>3</td>\n",
       "      <td>4.8</td>\n",
       "      <td>Dark Green</td>\n",
       "      <td>Excellent</td>\n",
       "      <td>314</td>\n",
       "      <td>Phillipines</td>\n",
       "    </tr>\n",
       "    <tr>\n",
       "      <th>1</th>\n",
       "      <td>6304287</td>\n",
       "      <td>Izakaya Kikufuji</td>\n",
       "      <td>Makati City</td>\n",
       "      <td>Japanese</td>\n",
       "      <td>1200</td>\n",
       "      <td>Botswana Pula(P)</td>\n",
       "      <td>Yes</td>\n",
       "      <td>No</td>\n",
       "      <td>No</td>\n",
       "      <td>No</td>\n",
       "      <td>3</td>\n",
       "      <td>4.5</td>\n",
       "      <td>Dark Green</td>\n",
       "      <td>Excellent</td>\n",
       "      <td>591</td>\n",
       "      <td>Phillipines</td>\n",
       "    </tr>\n",
       "    <tr>\n",
       "      <th>2</th>\n",
       "      <td>6300002</td>\n",
       "      <td>Heat - Edsa Shangri-La</td>\n",
       "      <td>Mandaluyong City</td>\n",
       "      <td>Seafood, Asian, Filipino, Indian</td>\n",
       "      <td>4000</td>\n",
       "      <td>Botswana Pula(P)</td>\n",
       "      <td>Yes</td>\n",
       "      <td>No</td>\n",
       "      <td>No</td>\n",
       "      <td>No</td>\n",
       "      <td>4</td>\n",
       "      <td>4.4</td>\n",
       "      <td>Green</td>\n",
       "      <td>Very Good</td>\n",
       "      <td>270</td>\n",
       "      <td>Phillipines</td>\n",
       "    </tr>\n",
       "    <tr>\n",
       "      <th>3</th>\n",
       "      <td>6318506</td>\n",
       "      <td>Ooma</td>\n",
       "      <td>Mandaluyong City</td>\n",
       "      <td>Japanese, Sushi</td>\n",
       "      <td>1500</td>\n",
       "      <td>Botswana Pula(P)</td>\n",
       "      <td>No</td>\n",
       "      <td>No</td>\n",
       "      <td>No</td>\n",
       "      <td>No</td>\n",
       "      <td>4</td>\n",
       "      <td>4.9</td>\n",
       "      <td>Dark Green</td>\n",
       "      <td>Excellent</td>\n",
       "      <td>365</td>\n",
       "      <td>Phillipines</td>\n",
       "    </tr>\n",
       "    <tr>\n",
       "      <th>4</th>\n",
       "      <td>6314302</td>\n",
       "      <td>Sambo Kojin</td>\n",
       "      <td>Mandaluyong City</td>\n",
       "      <td>Japanese, Korean</td>\n",
       "      <td>1500</td>\n",
       "      <td>Botswana Pula(P)</td>\n",
       "      <td>Yes</td>\n",
       "      <td>No</td>\n",
       "      <td>No</td>\n",
       "      <td>No</td>\n",
       "      <td>4</td>\n",
       "      <td>4.8</td>\n",
       "      <td>Dark Green</td>\n",
       "      <td>Excellent</td>\n",
       "      <td>229</td>\n",
       "      <td>Phillipines</td>\n",
       "    </tr>\n",
       "  </tbody>\n",
       "</table>\n",
       "</div>"
      ],
      "text/plain": [
       "   Restaurant ID         Restaurant Name              City  \\\n",
       "0        6317637        Le Petit Souffle       Makati City   \n",
       "1        6304287        Izakaya Kikufuji       Makati City   \n",
       "2        6300002  Heat - Edsa Shangri-La  Mandaluyong City   \n",
       "3        6318506                    Ooma  Mandaluyong City   \n",
       "4        6314302             Sambo Kojin  Mandaluyong City   \n",
       "\n",
       "                           Cuisines  Average Cost for two          Currency  \\\n",
       "0        French, Japanese, Desserts                  1100  Botswana Pula(P)   \n",
       "1                          Japanese                  1200  Botswana Pula(P)   \n",
       "2  Seafood, Asian, Filipino, Indian                  4000  Botswana Pula(P)   \n",
       "3                   Japanese, Sushi                  1500  Botswana Pula(P)   \n",
       "4                  Japanese, Korean                  1500  Botswana Pula(P)   \n",
       "\n",
       "  Has Table booking Has Online delivery Is delivering now  \\\n",
       "0               Yes                  No                No   \n",
       "1               Yes                  No                No   \n",
       "2               Yes                  No                No   \n",
       "3                No                  No                No   \n",
       "4               Yes                  No                No   \n",
       "\n",
       "  Switch to order menu  Price range  Aggregate rating Rating color  \\\n",
       "0                   No            3               4.8   Dark Green   \n",
       "1                   No            3               4.5   Dark Green   \n",
       "2                   No            4               4.4        Green   \n",
       "3                   No            4               4.9   Dark Green   \n",
       "4                   No            4               4.8   Dark Green   \n",
       "\n",
       "  Rating text  Votes      Country  \n",
       "0   Excellent    314  Phillipines  \n",
       "1   Excellent    591  Phillipines  \n",
       "2   Very Good    270  Phillipines  \n",
       "3   Excellent    365  Phillipines  \n",
       "4   Excellent    229  Phillipines  "
      ]
     },
     "execution_count": 8,
     "metadata": {},
     "output_type": "execute_result"
    }
   ],
   "source": [
    "data.head()"
   ]
  },
  {
   "cell_type": "markdown",
   "id": "3f9404a1",
   "metadata": {
    "papermill": {
     "duration": 0.018295,
     "end_time": "2023-08-07T09:40:40.787790",
     "exception": false,
     "start_time": "2023-08-07T09:40:40.769495",
     "status": "completed"
    },
    "tags": []
   },
   "source": [
    "## 3. Basic Exploration"
   ]
  },
  {
   "cell_type": "code",
   "execution_count": 9,
   "id": "03cd357d",
   "metadata": {
    "execution": {
     "iopub.execute_input": "2023-08-07T09:40:40.828554Z",
     "iopub.status.busy": "2023-08-07T09:40:40.827810Z",
     "iopub.status.idle": "2023-08-07T09:40:40.863053Z",
     "shell.execute_reply": "2023-08-07T09:40:40.861370Z"
    },
    "papermill": {
     "duration": 0.059317,
     "end_time": "2023-08-07T09:40:40.865730",
     "exception": false,
     "start_time": "2023-08-07T09:40:40.806413",
     "status": "completed"
    },
    "tags": []
   },
   "outputs": [
    {
     "name": "stdout",
     "output_type": "stream",
     "text": [
      "<class 'pandas.core.frame.DataFrame'>\n",
      "Int64Index: 9551 entries, 0 to 9550\n",
      "Data columns (total 16 columns):\n",
      " #   Column                Non-Null Count  Dtype  \n",
      "---  ------                --------------  -----  \n",
      " 0   Restaurant ID         9551 non-null   int64  \n",
      " 1   Restaurant Name       9551 non-null   object \n",
      " 2   City                  9551 non-null   object \n",
      " 3   Cuisines              9542 non-null   object \n",
      " 4   Average Cost for two  9551 non-null   int64  \n",
      " 5   Currency              9551 non-null   object \n",
      " 6   Has Table booking     9551 non-null   object \n",
      " 7   Has Online delivery   9551 non-null   object \n",
      " 8   Is delivering now     9551 non-null   object \n",
      " 9   Switch to order menu  9551 non-null   object \n",
      " 10  Price range           9551 non-null   int64  \n",
      " 11  Aggregate rating      9551 non-null   float64\n",
      " 12  Rating color          9551 non-null   object \n",
      " 13  Rating text           9551 non-null   object \n",
      " 14  Votes                 9551 non-null   int64  \n",
      " 15  Country               9551 non-null   object \n",
      "dtypes: float64(1), int64(4), object(11)\n",
      "memory usage: 1.2+ MB\n"
     ]
    }
   ],
   "source": [
    "data.info()"
   ]
  },
  {
   "cell_type": "markdown",
   "id": "a3645266",
   "metadata": {
    "papermill": {
     "duration": 0.018095,
     "end_time": "2023-08-07T09:40:40.902696",
     "exception": false,
     "start_time": "2023-08-07T09:40:40.884601",
     "status": "completed"
    },
    "tags": []
   },
   "source": [
    "### 3.1 Exploring contnious features\n",
    "Note: Here `Restaurant ID` may not be considered a continous variable"
   ]
  },
  {
   "cell_type": "code",
   "execution_count": 10,
   "id": "100e979d",
   "metadata": {
    "execution": {
     "iopub.execute_input": "2023-08-07T09:40:40.943769Z",
     "iopub.status.busy": "2023-08-07T09:40:40.942728Z",
     "iopub.status.idle": "2023-08-07T09:40:40.973928Z",
     "shell.execute_reply": "2023-08-07T09:40:40.972655Z"
    },
    "papermill": {
     "duration": 0.054153,
     "end_time": "2023-08-07T09:40:40.976195",
     "exception": false,
     "start_time": "2023-08-07T09:40:40.922042",
     "status": "completed"
    },
    "tags": []
   },
   "outputs": [
    {
     "data": {
      "text/html": [
       "<div>\n",
       "<style scoped>\n",
       "    .dataframe tbody tr th:only-of-type {\n",
       "        vertical-align: middle;\n",
       "    }\n",
       "\n",
       "    .dataframe tbody tr th {\n",
       "        vertical-align: top;\n",
       "    }\n",
       "\n",
       "    .dataframe thead th {\n",
       "        text-align: right;\n",
       "    }\n",
       "</style>\n",
       "<table border=\"1\" class=\"dataframe\">\n",
       "  <thead>\n",
       "    <tr style=\"text-align: right;\">\n",
       "      <th></th>\n",
       "      <th>Restaurant ID</th>\n",
       "      <th>Average Cost for two</th>\n",
       "      <th>Price range</th>\n",
       "      <th>Aggregate rating</th>\n",
       "      <th>Votes</th>\n",
       "    </tr>\n",
       "  </thead>\n",
       "  <tbody>\n",
       "    <tr>\n",
       "      <th>count</th>\n",
       "      <td>9.551000e+03</td>\n",
       "      <td>9551.000000</td>\n",
       "      <td>9551.000000</td>\n",
       "      <td>9551.000000</td>\n",
       "      <td>9551.000000</td>\n",
       "    </tr>\n",
       "    <tr>\n",
       "      <th>mean</th>\n",
       "      <td>9.051128e+06</td>\n",
       "      <td>1199.210763</td>\n",
       "      <td>1.804837</td>\n",
       "      <td>2.666370</td>\n",
       "      <td>156.909748</td>\n",
       "    </tr>\n",
       "    <tr>\n",
       "      <th>std</th>\n",
       "      <td>8.791521e+06</td>\n",
       "      <td>16121.183073</td>\n",
       "      <td>0.905609</td>\n",
       "      <td>1.516378</td>\n",
       "      <td>430.169145</td>\n",
       "    </tr>\n",
       "    <tr>\n",
       "      <th>min</th>\n",
       "      <td>5.300000e+01</td>\n",
       "      <td>0.000000</td>\n",
       "      <td>1.000000</td>\n",
       "      <td>0.000000</td>\n",
       "      <td>0.000000</td>\n",
       "    </tr>\n",
       "    <tr>\n",
       "      <th>25%</th>\n",
       "      <td>3.019625e+05</td>\n",
       "      <td>250.000000</td>\n",
       "      <td>1.000000</td>\n",
       "      <td>2.500000</td>\n",
       "      <td>5.000000</td>\n",
       "    </tr>\n",
       "    <tr>\n",
       "      <th>50%</th>\n",
       "      <td>6.004089e+06</td>\n",
       "      <td>400.000000</td>\n",
       "      <td>2.000000</td>\n",
       "      <td>3.200000</td>\n",
       "      <td>31.000000</td>\n",
       "    </tr>\n",
       "    <tr>\n",
       "      <th>75%</th>\n",
       "      <td>1.835229e+07</td>\n",
       "      <td>700.000000</td>\n",
       "      <td>2.000000</td>\n",
       "      <td>3.700000</td>\n",
       "      <td>131.000000</td>\n",
       "    </tr>\n",
       "    <tr>\n",
       "      <th>max</th>\n",
       "      <td>1.850065e+07</td>\n",
       "      <td>800000.000000</td>\n",
       "      <td>4.000000</td>\n",
       "      <td>4.900000</td>\n",
       "      <td>10934.000000</td>\n",
       "    </tr>\n",
       "  </tbody>\n",
       "</table>\n",
       "</div>"
      ],
      "text/plain": [
       "       Restaurant ID  Average Cost for two  Price range  Aggregate rating  \\\n",
       "count   9.551000e+03           9551.000000  9551.000000       9551.000000   \n",
       "mean    9.051128e+06           1199.210763     1.804837          2.666370   \n",
       "std     8.791521e+06          16121.183073     0.905609          1.516378   \n",
       "min     5.300000e+01              0.000000     1.000000          0.000000   \n",
       "25%     3.019625e+05            250.000000     1.000000          2.500000   \n",
       "50%     6.004089e+06            400.000000     2.000000          3.200000   \n",
       "75%     1.835229e+07            700.000000     2.000000          3.700000   \n",
       "max     1.850065e+07         800000.000000     4.000000          4.900000   \n",
       "\n",
       "              Votes  \n",
       "count   9551.000000  \n",
       "mean     156.909748  \n",
       "std      430.169145  \n",
       "min        0.000000  \n",
       "25%        5.000000  \n",
       "50%       31.000000  \n",
       "75%      131.000000  \n",
       "max    10934.000000  "
      ]
     },
     "execution_count": 10,
     "metadata": {},
     "output_type": "execute_result"
    }
   ],
   "source": [
    "data.describe()"
   ]
  },
  {
   "cell_type": "markdown",
   "id": "e32432da",
   "metadata": {
    "papermill": {
     "duration": 0.019666,
     "end_time": "2023-08-07T09:40:41.014792",
     "exception": false,
     "start_time": "2023-08-07T09:40:40.995126",
     "status": "completed"
    },
    "tags": []
   },
   "source": [
    "### 3.2 Exploring categorical features"
   ]
  },
  {
   "cell_type": "code",
   "execution_count": 11,
   "id": "8ed65210",
   "metadata": {
    "execution": {
     "iopub.execute_input": "2023-08-07T09:40:41.054715Z",
     "iopub.status.busy": "2023-08-07T09:40:41.053865Z",
     "iopub.status.idle": "2023-08-07T09:40:41.104673Z",
     "shell.execute_reply": "2023-08-07T09:40:41.103498Z"
    },
    "papermill": {
     "duration": 0.073536,
     "end_time": "2023-08-07T09:40:41.107193",
     "exception": false,
     "start_time": "2023-08-07T09:40:41.033657",
     "status": "completed"
    },
    "tags": []
   },
   "outputs": [
    {
     "data": {
      "text/html": [
       "<div>\n",
       "<style scoped>\n",
       "    .dataframe tbody tr th:only-of-type {\n",
       "        vertical-align: middle;\n",
       "    }\n",
       "\n",
       "    .dataframe tbody tr th {\n",
       "        vertical-align: top;\n",
       "    }\n",
       "\n",
       "    .dataframe thead th {\n",
       "        text-align: right;\n",
       "    }\n",
       "</style>\n",
       "<table border=\"1\" class=\"dataframe\">\n",
       "  <thead>\n",
       "    <tr style=\"text-align: right;\">\n",
       "      <th></th>\n",
       "      <th>Restaurant Name</th>\n",
       "      <th>City</th>\n",
       "      <th>Cuisines</th>\n",
       "      <th>Currency</th>\n",
       "      <th>Has Table booking</th>\n",
       "      <th>Has Online delivery</th>\n",
       "      <th>Is delivering now</th>\n",
       "      <th>Switch to order menu</th>\n",
       "      <th>Rating color</th>\n",
       "      <th>Rating text</th>\n",
       "      <th>Country</th>\n",
       "    </tr>\n",
       "  </thead>\n",
       "  <tbody>\n",
       "    <tr>\n",
       "      <th>count</th>\n",
       "      <td>9551</td>\n",
       "      <td>9551</td>\n",
       "      <td>9542</td>\n",
       "      <td>9551</td>\n",
       "      <td>9551</td>\n",
       "      <td>9551</td>\n",
       "      <td>9551</td>\n",
       "      <td>9551</td>\n",
       "      <td>9551</td>\n",
       "      <td>9551</td>\n",
       "      <td>9551</td>\n",
       "    </tr>\n",
       "    <tr>\n",
       "      <th>unique</th>\n",
       "      <td>7446</td>\n",
       "      <td>141</td>\n",
       "      <td>1825</td>\n",
       "      <td>12</td>\n",
       "      <td>2</td>\n",
       "      <td>2</td>\n",
       "      <td>2</td>\n",
       "      <td>1</td>\n",
       "      <td>6</td>\n",
       "      <td>6</td>\n",
       "      <td>15</td>\n",
       "    </tr>\n",
       "    <tr>\n",
       "      <th>top</th>\n",
       "      <td>Cafe Coffee Day</td>\n",
       "      <td>New Delhi</td>\n",
       "      <td>North Indian</td>\n",
       "      <td>Indian Rupees(Rs.)</td>\n",
       "      <td>No</td>\n",
       "      <td>No</td>\n",
       "      <td>No</td>\n",
       "      <td>No</td>\n",
       "      <td>Orange</td>\n",
       "      <td>Average</td>\n",
       "      <td>India</td>\n",
       "    </tr>\n",
       "    <tr>\n",
       "      <th>freq</th>\n",
       "      <td>83</td>\n",
       "      <td>5473</td>\n",
       "      <td>936</td>\n",
       "      <td>8652</td>\n",
       "      <td>8393</td>\n",
       "      <td>7100</td>\n",
       "      <td>9517</td>\n",
       "      <td>9551</td>\n",
       "      <td>3737</td>\n",
       "      <td>3737</td>\n",
       "      <td>8652</td>\n",
       "    </tr>\n",
       "  </tbody>\n",
       "</table>\n",
       "</div>"
      ],
      "text/plain": [
       "        Restaurant Name       City      Cuisines            Currency  \\\n",
       "count              9551       9551          9542                9551   \n",
       "unique             7446        141          1825                  12   \n",
       "top     Cafe Coffee Day  New Delhi  North Indian  Indian Rupees(Rs.)   \n",
       "freq                 83       5473           936                8652   \n",
       "\n",
       "       Has Table booking Has Online delivery Is delivering now  \\\n",
       "count               9551                9551              9551   \n",
       "unique                 2                   2                 2   \n",
       "top                   No                  No                No   \n",
       "freq                8393                7100              9517   \n",
       "\n",
       "       Switch to order menu Rating color Rating text Country  \n",
       "count                  9551         9551        9551    9551  \n",
       "unique                    1            6           6      15  \n",
       "top                      No       Orange     Average   India  \n",
       "freq                   9551         3737        3737    8652  "
      ]
     },
     "execution_count": 11,
     "metadata": {},
     "output_type": "execute_result"
    }
   ],
   "source": [
    "data.describe(include='object')"
   ]
  },
  {
   "cell_type": "markdown",
   "id": "63ff9228",
   "metadata": {
    "papermill": {
     "duration": 0.0194,
     "end_time": "2023-08-07T09:40:41.146502",
     "exception": false,
     "start_time": "2023-08-07T09:40:41.127102",
     "status": "completed"
    },
    "tags": []
   },
   "source": [
    "### 3.3 Exploring unique values for each categorical feature"
   ]
  },
  {
   "cell_type": "code",
   "execution_count": 12,
   "id": "be51b463",
   "metadata": {
    "execution": {
     "iopub.execute_input": "2023-08-07T09:40:41.187546Z",
     "iopub.status.busy": "2023-08-07T09:40:41.187139Z",
     "iopub.status.idle": "2023-08-07T09:40:41.237595Z",
     "shell.execute_reply": "2023-08-07T09:40:41.235311Z"
    },
    "papermill": {
     "duration": 0.073462,
     "end_time": "2023-08-07T09:40:41.240151",
     "exception": false,
     "start_time": "2023-08-07T09:40:41.166689",
     "status": "completed"
    },
    "tags": []
   },
   "outputs": [
    {
     "name": "stdout",
     "output_type": "stream",
     "text": [
      "Restaurant Name\n",
      "['Le Petit Souffle' 'Izakaya Kikufuji' 'Heat - Edsa Shangri-La' ...\n",
      " 'Huqqa' 'A\\x81ô\\x81ôk Kahve' \"Walter's Coffee Roastery\"]\n",
      "--------------------------------------------------\n",
      "City\n",
      "['Makati City' 'Mandaluyong City' 'Pasay City' 'Pasig City' 'Quezon City'\n",
      " 'San Juan City' 'Santa Rosa' 'Tagaytay City' 'Taguig City' 'Brasí_lia'\n",
      " 'Rio de Janeiro' 'Sí£o Paulo' 'Albany' 'Armidale' 'Athens' 'Augusta'\n",
      " 'Balingup' 'Beechworth' 'Boise' 'Cedar Rapids/Iowa City' 'Chatham-Kent'\n",
      " 'Clatskanie' 'Cochrane' 'Columbus' 'Consort' 'Dalton' 'Davenport'\n",
      " 'Des Moines' 'Dicky Beach' 'Dubuque' 'East Ballina' 'Fernley' 'Flaxton'\n",
      " 'Forrest' 'Gainesville' 'Hepburn Springs' 'Huskisson' 'Inverloch'\n",
      " 'Lakes Entrance' 'Lakeview' 'Lincoln' 'Lorn' 'Macedon' 'Macon' 'Mayfield'\n",
      " 'Mc Millan' 'Middleton Beach' 'Miller' 'Monroe' 'Montville'\n",
      " 'Ojo Caliente' 'Orlando' 'Palm Cove' 'Paynesville' 'Penola' 'Pensacola'\n",
      " 'Phillip Island' 'Pocatello' 'Potrero' 'Princeton' 'Rest of Hawaii'\n",
      " 'Savannah' 'Singapore' 'Sioux City' 'Tampa Bay' 'Tanunda' 'Trentham East'\n",
      " 'Valdosta' 'Vernonia' 'Victor Harbor' 'Vineland Station' 'Waterloo'\n",
      " 'Weirton' 'Winchester Bay' 'Yorkton' 'Abu Dhabi' 'Dubai' 'Sharjah' 'Agra'\n",
      " 'Ahmedabad' 'Allahabad' 'Amritsar' 'Aurangabad' 'Bangalore' 'Bhopal'\n",
      " 'Bhubaneshwar' 'Chandigarh' 'Chennai' 'Coimbatore' 'Dehradun' 'Faridabad'\n",
      " 'Ghaziabad' 'Goa' 'Gurgaon' 'Guwahati' 'Hyderabad' 'Indore' 'Jaipur'\n",
      " 'Kanpur' 'Kochi' 'Kolkata' 'Lucknow' 'Ludhiana' 'Mangalore' 'Mohali'\n",
      " 'Mumbai' 'Mysore' 'Nagpur' 'Nashik' 'New Delhi' 'Noida' 'Panchkula'\n",
      " 'Patna' 'Puducherry' 'Pune' 'Ranchi' 'Secunderabad' 'Surat' 'Vadodara'\n",
      " 'Varanasi' 'Vizag' 'Bandung' 'Bogor' 'Jakarta' 'Tangerang' 'Auckland'\n",
      " 'Wellington City' 'Birmingham' 'Edinburgh' 'London' 'Manchester' 'Doha'\n",
      " 'Cape Town' 'Inner City' 'Johannesburg' 'Pretoria' 'Randburg' 'Sandton'\n",
      " 'Colombo' 'Ankara' 'ÛÁstanbul']\n",
      "--------------------------------------------------\n",
      "Cuisines\n",
      "['French, Japanese, Desserts' 'Japanese'\n",
      " 'Seafood, Asian, Filipino, Indian' ... 'Burger, Izgara'\n",
      " 'World Cuisine, Patisserie, Cafe' 'Italian, World Cuisine']\n",
      "--------------------------------------------------\n",
      "Currency\n",
      "['Botswana Pula(P)' 'Brazilian Real(R$)' 'Dollar($)' 'Emirati Diram(AED)'\n",
      " 'Indian Rupees(Rs.)' 'Indonesian Rupiah(IDR)' 'NewZealand($)'\n",
      " 'Pounds(\\x8c£)' 'Qatari Rial(QR)' 'Rand(R)' 'Sri Lankan Rupee(LKR)'\n",
      " 'Turkish Lira(TL)']\n",
      "--------------------------------------------------\n",
      "Has Table booking\n",
      "['Yes' 'No']\n",
      "--------------------------------------------------\n",
      "Has Online delivery\n",
      "['No' 'Yes']\n",
      "--------------------------------------------------\n",
      "Is delivering now\n",
      "['No' 'Yes']\n",
      "--------------------------------------------------\n",
      "Switch to order menu\n",
      "['No']\n",
      "--------------------------------------------------\n",
      "Rating color\n",
      "['Dark Green' 'Green' 'Yellow' 'Orange' 'White' 'Red']\n",
      "--------------------------------------------------\n",
      "Rating text\n",
      "['Excellent' 'Very Good' 'Good' 'Average' 'Not rated' 'Poor']\n",
      "--------------------------------------------------\n",
      "Country\n",
      "['Phillipines' 'Brazil' 'United States' 'Australia' 'Canada' 'Singapore'\n",
      " 'UAE' 'India' 'Indonesia' 'New Zealand' 'United Kingdom' 'Qatar'\n",
      " 'South Africa' 'Sri Lanka' 'Turkey']\n",
      "--------------------------------------------------\n"
     ]
    }
   ],
   "source": [
    "for col in data.describe(include='object').columns:\n",
    "    print(col)\n",
    "    print(data[col].unique())\n",
    "    print('-'*50)"
   ]
  },
  {
   "cell_type": "code",
   "execution_count": 13,
   "id": "33bb068c",
   "metadata": {
    "execution": {
     "iopub.execute_input": "2023-08-07T09:40:41.281076Z",
     "iopub.status.busy": "2023-08-07T09:40:41.280680Z",
     "iopub.status.idle": "2023-08-07T09:40:41.288206Z",
     "shell.execute_reply": "2023-08-07T09:40:41.287044Z"
    },
    "papermill": {
     "duration": 0.031066,
     "end_time": "2023-08-07T09:40:41.290680",
     "exception": false,
     "start_time": "2023-08-07T09:40:41.259614",
     "status": "completed"
    },
    "tags": []
   },
   "outputs": [
    {
     "data": {
      "text/plain": [
       "(9551, 16)"
      ]
     },
     "execution_count": 13,
     "metadata": {},
     "output_type": "execute_result"
    }
   ],
   "source": [
    "data.shape"
   ]
  },
  {
   "cell_type": "markdown",
   "id": "c0aab98d",
   "metadata": {
    "papermill": {
     "duration": 0.019245,
     "end_time": "2023-08-07T09:40:41.330915",
     "exception": false,
     "start_time": "2023-08-07T09:40:41.311670",
     "status": "completed"
    },
    "tags": []
   },
   "source": [
    "## 4. Missing Values"
   ]
  },
  {
   "cell_type": "code",
   "execution_count": 14,
   "id": "51c04837",
   "metadata": {
    "execution": {
     "iopub.execute_input": "2023-08-07T09:40:41.373309Z",
     "iopub.status.busy": "2023-08-07T09:40:41.372246Z",
     "iopub.status.idle": "2023-08-07T09:40:41.399683Z",
     "shell.execute_reply": "2023-08-07T09:40:41.398249Z"
    },
    "papermill": {
     "duration": 0.051805,
     "end_time": "2023-08-07T09:40:41.402213",
     "exception": false,
     "start_time": "2023-08-07T09:40:41.350408",
     "status": "completed"
    },
    "tags": []
   },
   "outputs": [
    {
     "data": {
      "text/plain": [
       "Restaurant ID           0\n",
       "Restaurant Name         0\n",
       "City                    0\n",
       "Cuisines                9\n",
       "Average Cost for two    0\n",
       "Currency                0\n",
       "Has Table booking       0\n",
       "Has Online delivery     0\n",
       "Is delivering now       0\n",
       "Switch to order menu    0\n",
       "Price range             0\n",
       "Aggregate rating        0\n",
       "Rating color            0\n",
       "Rating text             0\n",
       "Votes                   0\n",
       "Country                 0\n",
       "dtype: int64"
      ]
     },
     "execution_count": 14,
     "metadata": {},
     "output_type": "execute_result"
    }
   ],
   "source": [
    "data.isna().sum()"
   ]
  },
  {
   "cell_type": "markdown",
   "id": "46746932",
   "metadata": {
    "papermill": {
     "duration": 0.019428,
     "end_time": "2023-08-07T09:40:41.441357",
     "exception": false,
     "start_time": "2023-08-07T09:40:41.421929",
     "status": "completed"
    },
    "tags": []
   },
   "source": [
    "## `Observation:`\n",
    "We can see only `Cuisines` have 9 missing values which can be dropped from the dataset"
   ]
  },
  {
   "cell_type": "code",
   "execution_count": 15,
   "id": "3c57b9e5",
   "metadata": {
    "execution": {
     "iopub.execute_input": "2023-08-07T09:40:41.482330Z",
     "iopub.status.busy": "2023-08-07T09:40:41.481929Z",
     "iopub.status.idle": "2023-08-07T09:40:41.488627Z",
     "shell.execute_reply": "2023-08-07T09:40:41.487473Z"
    },
    "papermill": {
     "duration": 0.029959,
     "end_time": "2023-08-07T09:40:41.491003",
     "exception": false,
     "start_time": "2023-08-07T09:40:41.461044",
     "status": "completed"
    },
    "tags": []
   },
   "outputs": [],
   "source": [
    "data['Cuisines'].dropna(axis=0,inplace=True)\n"
   ]
  },
  {
   "cell_type": "markdown",
   "id": "d1ee2589",
   "metadata": {
    "papermill": {
     "duration": 0.019074,
     "end_time": "2023-08-07T09:40:41.529664",
     "exception": false,
     "start_time": "2023-08-07T09:40:41.510590",
     "status": "completed"
    },
    "tags": []
   },
   "source": [
    "## 4. Outlier Analysis"
   ]
  },
  {
   "cell_type": "markdown",
   "id": "c6048f91",
   "metadata": {
    "papermill": {
     "duration": 0.019649,
     "end_time": "2023-08-07T09:40:41.569207",
     "exception": false,
     "start_time": "2023-08-07T09:40:41.549558",
     "status": "completed"
    },
    "tags": []
   },
   "source": [
    "### 4.1 Plotting Distribution for continous features"
   ]
  },
  {
   "cell_type": "code",
   "execution_count": 16,
   "id": "1f70bb2e",
   "metadata": {
    "execution": {
     "iopub.execute_input": "2023-08-07T09:40:41.611473Z",
     "iopub.status.busy": "2023-08-07T09:40:41.610948Z",
     "iopub.status.idle": "2023-08-07T09:40:42.982340Z",
     "shell.execute_reply": "2023-08-07T09:40:42.980781Z"
    },
    "papermill": {
     "duration": 1.396616,
     "end_time": "2023-08-07T09:40:42.985746",
     "exception": false,
     "start_time": "2023-08-07T09:40:41.589130",
     "status": "completed"
    },
    "tags": []
   },
   "outputs": [
    {
     "data": {
      "image/png": "[encoded data removed]",
      "text/plain": [
       "<Figure size 1440x720 with 4 Axes>"
      ]
     },
     "metadata": {
      "needs_background": "light"
     },
     "output_type": "display_data"
    }
   ],
   "source": [
    "labels = list(data.describe().columns)[1:]\n",
    "c=0\n",
    "plt.figure(figsize=(20,10))\n",
    "for i in labels:\n",
    "    c=c+1\n",
    "    plt.subplot(2,2,c)\n",
    "    sns.distplot(df[i],kde=True,)\n",
    "    \n",
    "plt.show()"
   ]
  },
  {
   "cell_type": "markdown",
   "id": "fe00be22",
   "metadata": {
    "papermill": {
     "duration": 0.021742,
     "end_time": "2023-08-07T09:40:43.029782",
     "exception": false,
     "start_time": "2023-08-07T09:40:43.008040",
     "status": "completed"
    },
    "tags": []
   },
   "source": [
    "### 4.2 Z-Score Analysis to remove outliers"
   ]
  },
  {
   "cell_type": "code",
   "execution_count": 17,
   "id": "38c5f1ce",
   "metadata": {
    "execution": {
     "iopub.execute_input": "2023-08-07T09:40:43.076269Z",
     "iopub.status.busy": "2023-08-07T09:40:43.075913Z",
     "iopub.status.idle": "2023-08-07T09:40:43.080271Z",
     "shell.execute_reply": "2023-08-07T09:40:43.079061Z"
    },
    "papermill": {
     "duration": 0.029472,
     "end_time": "2023-08-07T09:40:43.082359",
     "exception": false,
     "start_time": "2023-08-07T09:40:43.052887",
     "status": "completed"
    },
    "tags": []
   },
   "outputs": [],
   "source": [
    "import scipy.stats as st\n"
   ]
  },
  {
   "cell_type": "code",
   "execution_count": 18,
   "id": "096d7be9",
   "metadata": {
    "execution": {
     "iopub.execute_input": "2023-08-07T09:40:43.131706Z",
     "iopub.status.busy": "2023-08-07T09:40:43.131286Z",
     "iopub.status.idle": "2023-08-07T09:40:43.161171Z",
     "shell.execute_reply": "2023-08-07T09:40:43.159959Z"
    },
    "papermill": {
     "duration": 0.059509,
     "end_time": "2023-08-07T09:40:43.163671",
     "exception": false,
     "start_time": "2023-08-07T09:40:43.104162",
     "status": "completed"
    },
    "scrolled": true,
    "tags": []
   },
   "outputs": [
    {
     "data": {
      "text/plain": [
       "(9362, 4)"
      ]
     },
     "execution_count": 18,
     "metadata": {},
     "output_type": "execute_result"
    }
   ],
   "source": [
    "continous_df = df[list(data.describe().columns)[1:]]\n",
    "z = np.abs(st.zscore(continous_df))\n",
    "continous_df = continous_df[(z<3).all(axis=1)]\n",
    "continous_df.shape"
   ]
  },
  {
   "cell_type": "markdown",
   "id": "5c002633",
   "metadata": {
    "papermill": {
     "duration": 0.02144,
     "end_time": "2023-08-07T09:40:43.207806",
     "exception": false,
     "start_time": "2023-08-07T09:40:43.186366",
     "status": "completed"
    },
    "tags": []
   },
   "source": [
    "## `Observation:`\n",
    "We can see that datapoints have been reduced from 9551 to 9362 removing outliers with z-score > 3"
   ]
  },
  {
   "cell_type": "code",
   "execution_count": 19,
   "id": "81009f48",
   "metadata": {
    "execution": {
     "iopub.execute_input": "2023-08-07T09:40:43.253515Z",
     "iopub.status.busy": "2023-08-07T09:40:43.253116Z",
     "iopub.status.idle": "2023-08-07T09:40:43.265015Z",
     "shell.execute_reply": "2023-08-07T09:40:43.263790Z"
    },
    "papermill": {
     "duration": 0.037933,
     "end_time": "2023-08-07T09:40:43.267407",
     "exception": false,
     "start_time": "2023-08-07T09:40:43.229474",
     "status": "completed"
    },
    "tags": []
   },
   "outputs": [],
   "source": [
    "clean_data = data.iloc[continous_df.index]"
   ]
  },
  {
   "cell_type": "code",
   "execution_count": 20,
   "id": "82fe537a",
   "metadata": {
    "execution": {
     "iopub.execute_input": "2023-08-07T09:40:43.312297Z",
     "iopub.status.busy": "2023-08-07T09:40:43.311346Z",
     "iopub.status.idle": "2023-08-07T09:40:43.331309Z",
     "shell.execute_reply": "2023-08-07T09:40:43.330282Z"
    },
    "papermill": {
     "duration": 0.045264,
     "end_time": "2023-08-07T09:40:43.333899",
     "exception": false,
     "start_time": "2023-08-07T09:40:43.288635",
     "status": "completed"
    },
    "tags": []
   },
   "outputs": [
    {
     "data": {
      "text/html": [
       "<div>\n",
       "<style scoped>\n",
       "    .dataframe tbody tr th:only-of-type {\n",
       "        vertical-align: middle;\n",
       "    }\n",
       "\n",
       "    .dataframe tbody tr th {\n",
       "        vertical-align: top;\n",
       "    }\n",
       "\n",
       "    .dataframe thead th {\n",
       "        text-align: right;\n",
       "    }\n",
       "</style>\n",
       "<table border=\"1\" class=\"dataframe\">\n",
       "  <thead>\n",
       "    <tr style=\"text-align: right;\">\n",
       "      <th></th>\n",
       "      <th>Restaurant ID</th>\n",
       "      <th>Restaurant Name</th>\n",
       "      <th>City</th>\n",
       "      <th>Cuisines</th>\n",
       "      <th>Average Cost for two</th>\n",
       "      <th>Currency</th>\n",
       "      <th>Has Table booking</th>\n",
       "      <th>Has Online delivery</th>\n",
       "      <th>Is delivering now</th>\n",
       "      <th>Switch to order menu</th>\n",
       "      <th>Price range</th>\n",
       "      <th>Aggregate rating</th>\n",
       "      <th>Rating color</th>\n",
       "      <th>Rating text</th>\n",
       "      <th>Votes</th>\n",
       "      <th>Country</th>\n",
       "    </tr>\n",
       "  </thead>\n",
       "  <tbody>\n",
       "    <tr>\n",
       "      <th>0</th>\n",
       "      <td>6317637</td>\n",
       "      <td>Le Petit Souffle</td>\n",
       "      <td>Makati City</td>\n",
       "      <td>French, Japanese, Desserts</td>\n",
       "      <td>1100</td>\n",
       "      <td>Botswana Pula(P)</td>\n",
       "      <td>Yes</td>\n",
       "      <td>No</td>\n",
       "      <td>No</td>\n",
       "      <td>No</td>\n",
       "      <td>3</td>\n",
       "      <td>4.8</td>\n",
       "      <td>Dark Green</td>\n",
       "      <td>Excellent</td>\n",
       "      <td>314</td>\n",
       "      <td>Phillipines</td>\n",
       "    </tr>\n",
       "    <tr>\n",
       "      <th>1</th>\n",
       "      <td>6304287</td>\n",
       "      <td>Izakaya Kikufuji</td>\n",
       "      <td>Makati City</td>\n",
       "      <td>Japanese</td>\n",
       "      <td>1200</td>\n",
       "      <td>Botswana Pula(P)</td>\n",
       "      <td>Yes</td>\n",
       "      <td>No</td>\n",
       "      <td>No</td>\n",
       "      <td>No</td>\n",
       "      <td>3</td>\n",
       "      <td>4.5</td>\n",
       "      <td>Dark Green</td>\n",
       "      <td>Excellent</td>\n",
       "      <td>591</td>\n",
       "      <td>Phillipines</td>\n",
       "    </tr>\n",
       "    <tr>\n",
       "      <th>2</th>\n",
       "      <td>6300002</td>\n",
       "      <td>Heat - Edsa Shangri-La</td>\n",
       "      <td>Mandaluyong City</td>\n",
       "      <td>Seafood, Asian, Filipino, Indian</td>\n",
       "      <td>4000</td>\n",
       "      <td>Botswana Pula(P)</td>\n",
       "      <td>Yes</td>\n",
       "      <td>No</td>\n",
       "      <td>No</td>\n",
       "      <td>No</td>\n",
       "      <td>4</td>\n",
       "      <td>4.4</td>\n",
       "      <td>Green</td>\n",
       "      <td>Very Good</td>\n",
       "      <td>270</td>\n",
       "      <td>Phillipines</td>\n",
       "    </tr>\n",
       "    <tr>\n",
       "      <th>3</th>\n",
       "      <td>6318506</td>\n",
       "      <td>Ooma</td>\n",
       "      <td>Mandaluyong City</td>\n",
       "      <td>Japanese, Sushi</td>\n",
       "      <td>1500</td>\n",
       "      <td>Botswana Pula(P)</td>\n",
       "      <td>No</td>\n",
       "      <td>No</td>\n",
       "      <td>No</td>\n",
       "      <td>No</td>\n",
       "      <td>4</td>\n",
       "      <td>4.9</td>\n",
       "      <td>Dark Green</td>\n",
       "      <td>Excellent</td>\n",
       "      <td>365</td>\n",
       "      <td>Phillipines</td>\n",
       "    </tr>\n",
       "    <tr>\n",
       "      <th>4</th>\n",
       "      <td>6314302</td>\n",
       "      <td>Sambo Kojin</td>\n",
       "      <td>Mandaluyong City</td>\n",
       "      <td>Japanese, Korean</td>\n",
       "      <td>1500</td>\n",
       "      <td>Botswana Pula(P)</td>\n",
       "      <td>Yes</td>\n",
       "      <td>No</td>\n",
       "      <td>No</td>\n",
       "      <td>No</td>\n",
       "      <td>4</td>\n",
       "      <td>4.8</td>\n",
       "      <td>Dark Green</td>\n",
       "      <td>Excellent</td>\n",
       "      <td>229</td>\n",
       "      <td>Phillipines</td>\n",
       "    </tr>\n",
       "  </tbody>\n",
       "</table>\n",
       "</div>"
      ],
      "text/plain": [
       "   Restaurant ID         Restaurant Name              City  \\\n",
       "0        6317637        Le Petit Souffle       Makati City   \n",
       "1        6304287        Izakaya Kikufuji       Makati City   \n",
       "2        6300002  Heat - Edsa Shangri-La  Mandaluyong City   \n",
       "3        6318506                    Ooma  Mandaluyong City   \n",
       "4        6314302             Sambo Kojin  Mandaluyong City   \n",
       "\n",
       "                           Cuisines  Average Cost for two          Currency  \\\n",
       "0        French, Japanese, Desserts                  1100  Botswana Pula(P)   \n",
       "1                          Japanese                  1200  Botswana Pula(P)   \n",
       "2  Seafood, Asian, Filipino, Indian                  4000  Botswana Pula(P)   \n",
       "3                   Japanese, Sushi                  1500  Botswana Pula(P)   \n",
       "4                  Japanese, Korean                  1500  Botswana Pula(P)   \n",
       "\n",
       "  Has Table booking Has Online delivery Is delivering now  \\\n",
       "0               Yes                  No                No   \n",
       "1               Yes                  No                No   \n",
       "2               Yes                  No                No   \n",
       "3                No                  No                No   \n",
       "4               Yes                  No                No   \n",
       "\n",
       "  Switch to order menu  Price range  Aggregate rating Rating color  \\\n",
       "0                   No            3               4.8   Dark Green   \n",
       "1                   No            3               4.5   Dark Green   \n",
       "2                   No            4               4.4        Green   \n",
       "3                   No            4               4.9   Dark Green   \n",
       "4                   No            4               4.8   Dark Green   \n",
       "\n",
       "  Rating text  Votes      Country  \n",
       "0   Excellent    314  Phillipines  \n",
       "1   Excellent    591  Phillipines  \n",
       "2   Very Good    270  Phillipines  \n",
       "3   Excellent    365  Phillipines  \n",
       "4   Excellent    229  Phillipines  "
      ]
     },
     "execution_count": 20,
     "metadata": {},
     "output_type": "execute_result"
    }
   ],
   "source": [
    "clean_data.head()"
   ]
  },
  {
   "cell_type": "markdown",
   "id": "c7ae11d4",
   "metadata": {
    "papermill": {
     "duration": 0.020808,
     "end_time": "2023-08-07T09:40:43.376519",
     "exception": false,
     "start_time": "2023-08-07T09:40:43.355711",
     "status": "completed"
    },
    "tags": []
   },
   "source": [
    "### 4.3 Verifying using distribution plot"
   ]
  },
  {
   "cell_type": "code",
   "execution_count": 21,
   "id": "5cae4733",
   "metadata": {
    "execution": {
     "iopub.execute_input": "2023-08-07T09:40:43.422419Z",
     "iopub.status.busy": "2023-08-07T09:40:43.422049Z",
     "iopub.status.idle": "2023-08-07T09:40:44.826194Z",
     "shell.execute_reply": "2023-08-07T09:40:44.824964Z"
    },
    "papermill": {
     "duration": 1.430462,
     "end_time": "2023-08-07T09:40:44.828816",
     "exception": false,
     "start_time": "2023-08-07T09:40:43.398354",
     "status": "completed"
    },
    "tags": []
   },
   "outputs": [
    {
     "data": {
      "image/png": "[encoded data removed]",
      "text/plain": [
       "<Figure size 1440x720 with 4 Axes>"
      ]
     },
     "metadata": {
      "needs_background": "light"
     },
     "output_type": "display_data"
    }
   ],
   "source": [
    "labels = list(data.describe().columns)[1:]\n",
    "c=0\n",
    "plt.figure(figsize=(20,10))\n",
    "for i in labels:\n",
    "    c=c+1\n",
    "    plt.subplot(2,2,c)\n",
    "    sns.distplot(clean_data[i],kde=True,)\n",
    "    \n",
    "plt.show()"
   ]
  },
  {
   "cell_type": "markdown",
   "id": "ed834b96",
   "metadata": {
    "papermill": {
     "duration": 0.025183,
     "end_time": "2023-08-07T09:40:44.877574",
     "exception": false,
     "start_time": "2023-08-07T09:40:44.852391",
     "status": "completed"
    },
    "tags": []
   },
   "source": [
    "## 5. Extracting Insights using Visualizations"
   ]
  },
  {
   "cell_type": "markdown",
   "id": "32f58e4c",
   "metadata": {
    "papermill": {
     "duration": 0.023705,
     "end_time": "2023-08-07T09:40:44.925466",
     "exception": false,
     "start_time": "2023-08-07T09:40:44.901761",
     "status": "completed"
    },
    "tags": []
   },
   "source": [
    "### 5.1 Top 3 countries for which data represents"
   ]
  },
  {
   "cell_type": "code",
   "execution_count": 22,
   "id": "22d48039",
   "metadata": {
    "execution": {
     "iopub.execute_input": "2023-08-07T09:40:44.973406Z",
     "iopub.status.busy": "2023-08-07T09:40:44.973002Z",
     "iopub.status.idle": "2023-08-07T09:40:44.979608Z",
     "shell.execute_reply": "2023-08-07T09:40:44.978651Z"
    },
    "papermill": {
     "duration": 0.03304,
     "end_time": "2023-08-07T09:40:44.981615",
     "exception": false,
     "start_time": "2023-08-07T09:40:44.948575",
     "status": "completed"
    },
    "tags": []
   },
   "outputs": [],
   "source": [
    "country_counts = clean_data['Country'].value_counts()\n"
   ]
  },
  {
   "cell_type": "code",
   "execution_count": 23,
   "id": "b5c8a5f2",
   "metadata": {
    "execution": {
     "iopub.execute_input": "2023-08-07T09:40:45.030953Z",
     "iopub.status.busy": "2023-08-07T09:40:45.030576Z",
     "iopub.status.idle": "2023-08-07T09:40:45.249763Z",
     "shell.execute_reply": "2023-08-07T09:40:45.248491Z"
    },
    "papermill": {
     "duration": 0.248773,
     "end_time": "2023-08-07T09:40:45.253327",
     "exception": false,
     "start_time": "2023-08-07T09:40:45.004554",
     "status": "completed"
    },
    "tags": []
   },
   "outputs": [
    {
     "data": {
      "image/png": "[encoded data removed]",
      "text/plain": [
       "<Figure size 432x288 with 1 Axes>"
      ]
     },
     "metadata": {},
     "output_type": "display_data"
    }
   ],
   "source": [
    "fig1, ax1 = plt.subplots()\n",
    "\n",
    "colors = ['#ff9999','#66b3ff','#99ff99']\n",
    "#explsion\n",
    "explode = (0.05,0.05,0.05)\n",
    "plt.pie(x=country_counts[:3],labels=country_counts[:3].index,autopct='%1.2f%%',\n",
    "        radius=1,pctdistance=1.2,startangle=50,labeldistance=1.5,\n",
    "        counterclock=True,explode=explode,colors=colors)\n",
    "centre_circle = plt.Circle((0,0),0.70,fc='white')\n",
    "fig = plt.gcf()\n",
    "fig.gca().add_artist(centre_circle)\n",
    "# Equal aspect ratio ensures that pie is drawn as a circle\n",
    "ax1.axis('equal')  \n",
    "plt.tight_layout()\n",
    "plt.show()"
   ]
  },
  {
   "cell_type": "markdown",
   "id": "5c8a5f7d",
   "metadata": {
    "papermill": {
     "duration": 0.028204,
     "end_time": "2023-08-07T09:40:45.323779",
     "exception": false,
     "start_time": "2023-08-07T09:40:45.295575",
     "status": "completed"
    },
    "tags": []
   },
   "source": [
    "## `Observation:`\n",
    "Cleary the data is dominating for India as more than 90% of it comes from Indian Restaurants. The top 3 on list are India, USA and UK"
   ]
  },
  {
   "cell_type": "markdown",
   "id": "2d6da82b",
   "metadata": {
    "papermill": {
     "duration": 0.024093,
     "end_time": "2023-08-07T09:40:45.372322",
     "exception": false,
     "start_time": "2023-08-07T09:40:45.348229",
     "status": "completed"
    },
    "tags": []
   },
   "source": [
    "### 5.2 Penetration across cities for each Country\n",
    "\n"
   ]
  },
  {
   "cell_type": "code",
   "execution_count": 24,
   "id": "b7fa069f",
   "metadata": {
    "execution": {
     "iopub.execute_input": "2023-08-07T09:40:45.422193Z",
     "iopub.status.busy": "2023-08-07T09:40:45.421800Z",
     "iopub.status.idle": "2023-08-07T09:40:45.844056Z",
     "shell.execute_reply": "2023-08-07T09:40:45.842460Z"
    },
    "papermill": {
     "duration": 0.450421,
     "end_time": "2023-08-07T09:40:45.847148",
     "exception": false,
     "start_time": "2023-08-07T09:40:45.396727",
     "status": "completed"
    },
    "tags": []
   },
   "outputs": [
    {
     "data": {
      "image/png": "[encoded data removed]",
      "text/plain": [
       "<Figure size 864x576 with 1 Axes>"
      ]
     },
     "metadata": {
      "needs_background": "light"
     },
     "output_type": "display_data"
    }
   ],
   "source": [
    "city_counts = list()\n",
    "for i in clean_data.groupby(['Country','City']).count().index:\n",
    "    city_counts.append(i[0])\n",
    "city_counts = dict(Counter(city_counts))\n",
    "city_counts = dict(sorted(city_counts.items(),key=lambda x:x[1],reverse=True))\n",
    "country = list(city_counts.keys())\n",
    "counts = list(city_counts.values())\n",
    "fig = plt.figure(figsize=(12,8))\n",
    "plt.xlabel('Country')\n",
    "plt.ylabel('Cities Count')\n",
    "plt.xticks(rotation=90)\n",
    "ax = sns.barplot(x=country,y=counts)\n",
    "ax.bar_label(ax.containers[0])\n",
    "plt.show()"
   ]
  },
  {
   "cell_type": "markdown",
   "id": "3c100971",
   "metadata": {
    "papermill": {
     "duration": 0.028314,
     "end_time": "2023-08-07T09:40:45.903042",
     "exception": false,
     "start_time": "2023-08-07T09:40:45.874728",
     "status": "completed"
    },
    "tags": []
   },
   "source": [
    "## `Observation:`\n",
    "\n",
    "Zomato is present in 43 cities in India and 35 in the USA and 23 in Australia and the rest 12 cities are in single digits. So it validates the previous assumption that India and USA can be compared."
   ]
  },
  {
   "cell_type": "markdown",
   "id": "c0c9627f",
   "metadata": {
    "papermill": {
     "duration": 0.025654,
     "end_time": "2023-08-07T09:40:45.957722",
     "exception": false,
     "start_time": "2023-08-07T09:40:45.932068",
     "status": "completed"
    },
    "tags": []
   },
   "source": [
    "### 5.3 Count for each rating types"
   ]
  },
  {
   "cell_type": "code",
   "execution_count": 25,
   "id": "9f2d9b1f",
   "metadata": {
    "execution": {
     "iopub.execute_input": "2023-08-07T09:40:46.013736Z",
     "iopub.status.busy": "2023-08-07T09:40:46.011119Z",
     "iopub.status.idle": "2023-08-07T09:40:46.302548Z",
     "shell.execute_reply": "2023-08-07T09:40:46.300598Z"
    },
    "papermill": {
     "duration": 0.322634,
     "end_time": "2023-08-07T09:40:46.305970",
     "exception": false,
     "start_time": "2023-08-07T09:40:45.983336",
     "status": "completed"
    },
    "tags": []
   },
   "outputs": [
    {
     "data": {
      "image/png": "[encoded data removed]",
      "text/plain": [
       "<Figure size 432x288 with 1 Axes>"
      ]
     },
     "metadata": {
      "needs_background": "light"
     },
     "output_type": "display_data"
    }
   ],
   "source": [
    "ax = sns.countplot(data=clean_data,x='Rating text',palette=['#0000FF', '#3366CC', '#6699FF', '#99CCFF', '#CCE5FF'])\n",
    "ax.bar_label(ax.containers[0])\n",
    "plt.show()"
   ]
  },
  {
   "cell_type": "markdown",
   "id": "ae71a5b7",
   "metadata": {
    "papermill": {
     "duration": 0.027761,
     "end_time": "2023-08-07T09:40:46.363307",
     "exception": false,
     "start_time": "2023-08-07T09:40:46.335546",
     "status": "completed"
    },
    "tags": []
   },
   "source": [
    "## `Observation:`\n",
    "\n",
    "It can be observed that most popular rating is for 'Average'. But this does'nt give much insights for a particular contry.\n",
    "\n"
   ]
  },
  {
   "cell_type": "markdown",
   "id": "506085da",
   "metadata": {
    "papermill": {
     "duration": 0.029082,
     "end_time": "2023-08-07T09:40:46.421920",
     "exception": false,
     "start_time": "2023-08-07T09:40:46.392838",
     "status": "completed"
    },
    "tags": []
   },
   "source": [
    "## 5.4 Fuction definition:\n",
    "### 1. Distribution of Aggregate Rating for a particular country \n",
    "### 2. % Distribution of Restaurants Based on rating for a particular country\n",
    "\n",
    "`Note`: Here we have only compared India and USA"
   ]
  },
  {
   "cell_type": "code",
   "execution_count": 26,
   "id": "6482fd50",
   "metadata": {
    "execution": {
     "iopub.execute_input": "2023-08-07T09:40:46.485177Z",
     "iopub.status.busy": "2023-08-07T09:40:46.484233Z",
     "iopub.status.idle": "2023-08-07T09:40:46.492025Z",
     "shell.execute_reply": "2023-08-07T09:40:46.490620Z"
    },
    "papermill": {
     "duration": 0.040581,
     "end_time": "2023-08-07T09:40:46.494487",
     "exception": false,
     "start_time": "2023-08-07T09:40:46.453906",
     "status": "completed"
    },
    "tags": []
   },
   "outputs": [],
   "source": [
    "def get_ratingdist(clean_data,country):\n",
    "    agg = None\n",
    "    for i, j in clean_data.groupby('Country'):\n",
    "        if i == country:\n",
    "            agg = j['Aggregate rating']\n",
    "    fig = plt.figure(figsize=(12,8))\n",
    "    plt.title(f'DISTRIBUTION OF AGGREGATE RATING IN {country.upper()}')\n",
    "    plt.xlabel('Aggregate rating')\n",
    "    plt.ylabel('Count of Aggregate rating')\n",
    "    plt.grid()\n",
    "    sns.histplot(data=agg)"
   ]
  },
  {
   "cell_type": "code",
   "execution_count": 27,
   "id": "4c80300c",
   "metadata": {
    "execution": {
     "iopub.execute_input": "2023-08-07T09:40:46.548148Z",
     "iopub.status.busy": "2023-08-07T09:40:46.547323Z",
     "iopub.status.idle": "2023-08-07T09:40:46.556040Z",
     "shell.execute_reply": "2023-08-07T09:40:46.554838Z"
    },
    "papermill": {
     "duration": 0.038488,
     "end_time": "2023-08-07T09:40:46.558738",
     "exception": false,
     "start_time": "2023-08-07T09:40:46.520250",
     "status": "completed"
    },
    "tags": []
   },
   "outputs": [],
   "source": [
    "def get_restdist(clean_data,country):\n",
    "    \n",
    "    df = clean_data[clean_data['Country']==country]\n",
    "    ratings = df['Rating text'].unique()\n",
    "    ratings_count = np.zeros(len(ratings))\n",
    "    for i in range(len(ratings)):\n",
    "        ratings_count[i] = (df.groupby('Rating text').count().loc[ratings[i]][0])\n",
    "    \n",
    "    sort_indices = np.argsort(ratings_count)[::-1]\n",
    "    ratings = ratings[sort_indices]\n",
    "    ratings_count = ratings_count[sort_indices]\n",
    "    \n",
    "    total_rest = len(df)\n",
    "    ratings_dist = (ratings_count/total_rest)*100\n",
    "    ratings_dist = np.round(ratings_dist,decimals=2)\n",
    "    fig = plt.figure(figsize=(12,8))\n",
    "    plt.title(f'% DISTRIBUTION OF RESTAURANTS BASED ON RATINGS {country.upper()}')\n",
    "    plt.xlabel('% Distribution of Resteraunts')\n",
    "    plt.ylabel('Ratings')\n",
    "    ax = sns.barplot(x=ratings,y=ratings_dist)\n",
    "    ax.bar_label(ax.containers[0])\n",
    "    plt.show()\n",
    "    \n",
    "    \n",
    "    "
   ]
  },
  {
   "cell_type": "markdown",
   "id": "4cbad508",
   "metadata": {
    "papermill": {
     "duration": 0.025027,
     "end_time": "2023-08-07T09:40:46.610219",
     "exception": false,
     "start_time": "2023-08-07T09:40:46.585192",
     "status": "completed"
    },
    "tags": []
   },
   "source": [
    "### 5.4.1 USA Ratings"
   ]
  },
  {
   "cell_type": "code",
   "execution_count": 28,
   "id": "6ff7a506",
   "metadata": {
    "execution": {
     "iopub.execute_input": "2023-08-07T09:40:46.666338Z",
     "iopub.status.busy": "2023-08-07T09:40:46.665932Z",
     "iopub.status.idle": "2023-08-07T09:40:47.191359Z",
     "shell.execute_reply": "2023-08-07T09:40:47.190471Z"
    },
    "papermill": {
     "duration": 0.555804,
     "end_time": "2023-08-07T09:40:47.194378",
     "exception": false,
     "start_time": "2023-08-07T09:40:46.638574",
     "status": "completed"
    },
    "tags": []
   },
   "outputs": [
    {
     "data": {
      "image/png": "[encoded data removed]",
      "text/plain": [
       "<Figure size 864x576 with 1 Axes>"
      ]
     },
     "metadata": {
      "needs_background": "light"
     },
     "output_type": "display_data"
    }
   ],
   "source": [
    "get_ratingdist(clean_data,'United States')"
   ]
  },
  {
   "cell_type": "markdown",
   "id": "20b9fc13",
   "metadata": {
    "papermill": {
     "duration": 0.032089,
     "end_time": "2023-08-07T09:40:47.263735",
     "exception": false,
     "start_time": "2023-08-07T09:40:47.231646",
     "status": "completed"
    },
    "tags": []
   },
   "source": [
    "## `Observation:`\n",
    "Here we can observe that in USA people usually rate if the food is between Average - Excellent. A few ratings are given for poor restaurants\n",
    "This can mean two things:\n",
    "  1. Either people in USA tend to avoid rating negatively \n",
    "  2. Or most of the restuarants in USA serve quite good food \n",
    " \n",
    "`Note`: This may also result of lack of datapoints for USA as well\n"
   ]
  },
  {
   "cell_type": "markdown",
   "id": "f1300e08",
   "metadata": {
    "papermill": {
     "duration": 0.025748,
     "end_time": "2023-08-07T09:40:47.317883",
     "exception": false,
     "start_time": "2023-08-07T09:40:47.292135",
     "status": "completed"
    },
    "tags": []
   },
   "source": [
    "### 5.4.2 % Distribution of Resteraunts based on ratings in USA"
   ]
  },
  {
   "cell_type": "code",
   "execution_count": 29,
   "id": "96848f51",
   "metadata": {
    "execution": {
     "iopub.execute_input": "2023-08-07T09:40:47.374878Z",
     "iopub.status.busy": "2023-08-07T09:40:47.373856Z",
     "iopub.status.idle": "2023-08-07T09:40:47.760142Z",
     "shell.execute_reply": "2023-08-07T09:40:47.758772Z"
    },
    "papermill": {
     "duration": 0.418903,
     "end_time": "2023-08-07T09:40:47.762764",
     "exception": false,
     "start_time": "2023-08-07T09:40:47.343861",
     "status": "completed"
    },
    "tags": []
   },
   "outputs": [
    {
     "data": {
      "image/png": "[encoded data removed]",
      "text/plain": [
       "<Figure size 864x576 with 1 Axes>"
      ]
     },
     "metadata": {
      "needs_background": "light"
     },
     "output_type": "display_data"
    }
   ],
   "source": [
    "get_restdist(clean_data,'United States')"
   ]
  },
  {
   "cell_type": "markdown",
   "id": "2a752579",
   "metadata": {
    "papermill": {
     "duration": 0.027326,
     "end_time": "2023-08-07T09:40:47.816704",
     "exception": false,
     "start_time": "2023-08-07T09:40:47.789378",
     "status": "completed"
    },
    "tags": []
   },
   "source": [
    "## `Observation:`\n",
    "With this graph we can cleary notice that 40% of restaurants in USA are raitng 'Very Good'. A major percentage of distribution are rated 'Very Good','Good' or 'Excellent'. \n"
   ]
  },
  {
   "cell_type": "markdown",
   "id": "a5f48f05",
   "metadata": {
    "papermill": {
     "duration": 0.030072,
     "end_time": "2023-08-07T09:40:47.874764",
     "exception": false,
     "start_time": "2023-08-07T09:40:47.844692",
     "status": "completed"
    },
    "tags": []
   },
   "source": [
    "### 5.4.3 India Ratings"
   ]
  },
  {
   "cell_type": "code",
   "execution_count": 30,
   "id": "41032d91",
   "metadata": {
    "execution": {
     "iopub.execute_input": "2023-08-07T09:40:47.933825Z",
     "iopub.status.busy": "2023-08-07T09:40:47.933029Z",
     "iopub.status.idle": "2023-08-07T09:40:48.382177Z",
     "shell.execute_reply": "2023-08-07T09:40:48.380554Z"
    },
    "papermill": {
     "duration": 0.483642,
     "end_time": "2023-08-07T09:40:48.387346",
     "exception": false,
     "start_time": "2023-08-07T09:40:47.903704",
     "status": "completed"
    },
    "tags": []
   },
   "outputs": [
    {
     "data": {
      "image/png": "[encoded data removed]",
      "text/plain": [
       "<Figure size 864x576 with 1 Axes>"
      ]
     },
     "metadata": {
      "needs_background": "light"
     },
     "output_type": "display_data"
    }
   ],
   "source": [
    "get_ratingdist(clean_data,'India')"
   ]
  },
  {
   "cell_type": "markdown",
   "id": "9859aba5",
   "metadata": {
    "papermill": {
     "duration": 0.029011,
     "end_time": "2023-08-07T09:40:48.445687",
     "exception": false,
     "start_time": "2023-08-07T09:40:48.416676",
     "status": "completed"
    },
    "tags": []
   },
   "source": [
    "## `Observation:`\n",
    "Here we can observe that in India people usually rate if the food is between Average - Excellent. But here interestingly they penealize heavily for bad food/service. This is very different from the behaviour of customers in USA. This can be result of one of the following:\n",
    "\n",
    "1. People are senstive towards quality of food/service\n",
    "2. Major restaurants in India aren't able to provide good quality food.\n",
    "3. In India, people tend to rate poor so as avail free exchanges or cashbacks\n",
    "\n",
    "`Note`: The datapoints for India are huge as compared to USA "
   ]
  },
  {
   "cell_type": "markdown",
   "id": "14833fb2",
   "metadata": {
    "papermill": {
     "duration": 0.027127,
     "end_time": "2023-08-07T09:40:48.501910",
     "exception": false,
     "start_time": "2023-08-07T09:40:48.474783",
     "status": "completed"
    },
    "tags": []
   },
   "source": [
    "### 5.4.4 % Distribution of Resteraunts based on ratings in India"
   ]
  },
  {
   "cell_type": "code",
   "execution_count": 31,
   "id": "5809434f",
   "metadata": {
    "execution": {
     "iopub.execute_input": "2023-08-07T09:40:48.562108Z",
     "iopub.status.busy": "2023-08-07T09:40:48.561054Z",
     "iopub.status.idle": "2023-08-07T09:40:48.991754Z",
     "shell.execute_reply": "2023-08-07T09:40:48.990504Z"
    },
    "papermill": {
     "duration": 0.464107,
     "end_time": "2023-08-07T09:40:48.994622",
     "exception": false,
     "start_time": "2023-08-07T09:40:48.530515",
     "status": "completed"
    },
    "tags": []
   },
   "outputs": [
    {
     "data": {
      "image/png": "[encoded data removed]",
      "text/plain": [
       "<Figure size 864x576 with 1 Axes>"
      ]
     },
     "metadata": {
      "needs_background": "light"
     },
     "output_type": "display_data"
    }
   ],
   "source": [
    "get_restdist(clean_data,'India')"
   ]
  },
  {
   "cell_type": "markdown",
   "id": "ae7b0154",
   "metadata": {
    "papermill": {
     "duration": 0.027675,
     "end_time": "2023-08-07T09:40:49.049752",
     "exception": false,
     "start_time": "2023-08-07T09:40:49.022077",
     "status": "completed"
    },
    "tags": []
   },
   "source": [
    "## `Observation:`\n",
    "Here we can observe that when it comes to rating, Indian consumer is not generous with rating as 25% of restaurants are not rated (although this might be because data is large compared to USA). But this might also because of the fact that major chunk of Indian Restuarants fail to provide good food"
   ]
  },
  {
   "cell_type": "markdown",
   "id": "3ffc3ba1",
   "metadata": {
    "papermill": {
     "duration": 0.028904,
     "end_time": "2023-08-07T09:40:49.107136",
     "exception": false,
     "start_time": "2023-08-07T09:40:49.078232",
     "status": "completed"
    },
    "tags": []
   },
   "source": [
    "## 5.5 Distribution of Votes"
   ]
  },
  {
   "cell_type": "code",
   "execution_count": 32,
   "id": "1afc4479",
   "metadata": {
    "execution": {
     "iopub.execute_input": "2023-08-07T09:40:49.169578Z",
     "iopub.status.busy": "2023-08-07T09:40:49.168396Z",
     "iopub.status.idle": "2023-08-07T09:40:49.175206Z",
     "shell.execute_reply": "2023-08-07T09:40:49.174345Z"
    },
    "papermill": {
     "duration": 0.042349,
     "end_time": "2023-08-07T09:40:49.177461",
     "exception": false,
     "start_time": "2023-08-07T09:40:49.135112",
     "status": "completed"
    },
    "tags": []
   },
   "outputs": [],
   "source": [
    "def get_country_votes(clean_data,country):\n",
    "    df = clean_data[clean_data['Country']==country]\n",
    "    fig = plt.figure(figsize=(12,8))\n",
    "    plt.title(f'DISTRIBUTION OF VOTES IN {country.upper()}')\n",
    "    plt.xlabel('Votes')\n",
    "    plt.ylabel('Count of Votes')\n",
    "    plt.xticks(np.arange(0,1500,50),rotation=45)\n",
    "    plt.grid()\n",
    "    sns.histplot(data=df['Votes'],bins=20)\n",
    "     "
   ]
  },
  {
   "cell_type": "markdown",
   "id": "9b9d77ca",
   "metadata": {
    "papermill": {
     "duration": 0.028078,
     "end_time": "2023-08-07T09:40:49.233631",
     "exception": false,
     "start_time": "2023-08-07T09:40:49.205553",
     "status": "completed"
    },
    "tags": []
   },
   "source": [
    "## 5.5.1 Distribution of Votes in USA"
   ]
  },
  {
   "cell_type": "code",
   "execution_count": 33,
   "id": "30f3c3f9",
   "metadata": {
    "execution": {
     "iopub.execute_input": "2023-08-07T09:40:49.299007Z",
     "iopub.status.busy": "2023-08-07T09:40:49.298314Z",
     "iopub.status.idle": "2023-08-07T09:40:49.896243Z",
     "shell.execute_reply": "2023-08-07T09:40:49.894942Z"
    },
    "papermill": {
     "duration": 0.63287,
     "end_time": "2023-08-07T09:40:49.898684",
     "exception": false,
     "start_time": "2023-08-07T09:40:49.265814",
     "status": "completed"
    },
    "tags": []
   },
   "outputs": [
    {
     "data": {
      "image/png": "[encoded data removed]",
      "text/plain": [
       "<Figure size 864x576 with 1 Axes>"
      ]
     },
     "metadata": {
      "needs_background": "light"
     },
     "output_type": "display_data"
    }
   ],
   "source": [
    "get_country_votes(clean_data,'United States')"
   ]
  },
  {
   "cell_type": "markdown",
   "id": "7d063ab3",
   "metadata": {
    "papermill": {
     "duration": 0.027964,
     "end_time": "2023-08-07T09:40:49.957281",
     "exception": false,
     "start_time": "2023-08-07T09:40:49.929317",
     "status": "completed"
    },
    "tags": []
   },
   "source": [
    "## `Observation:`\n",
    "Clearly, there is a good variation in number of votes in USA. People tend to give more feedbacks in USA"
   ]
  },
  {
   "cell_type": "markdown",
   "id": "0c727f44",
   "metadata": {
    "papermill": {
     "duration": 0.028547,
     "end_time": "2023-08-07T09:40:50.014792",
     "exception": false,
     "start_time": "2023-08-07T09:40:49.986245",
     "status": "completed"
    },
    "tags": []
   },
   "source": [
    "### 5.5.2 Distribution of Votes in India"
   ]
  },
  {
   "cell_type": "code",
   "execution_count": 34,
   "id": "7922f247",
   "metadata": {
    "execution": {
     "iopub.execute_input": "2023-08-07T09:40:50.074670Z",
     "iopub.status.busy": "2023-08-07T09:40:50.074008Z",
     "iopub.status.idle": "2023-08-07T09:40:50.664025Z",
     "shell.execute_reply": "2023-08-07T09:40:50.662771Z"
    },
    "papermill": {
     "duration": 0.623563,
     "end_time": "2023-08-07T09:40:50.667324",
     "exception": false,
     "start_time": "2023-08-07T09:40:50.043761",
     "status": "completed"
    },
    "tags": []
   },
   "outputs": [
    {
     "data": {
      "image/png": "[encoded data removed]",
      "text/plain": [
       "<Figure size 864x576 with 1 Axes>"
      ]
     },
     "metadata": {
      "needs_background": "light"
     },
     "output_type": "display_data"
    }
   ],
   "source": [
    "get_country_votes(clean_data,'India')"
   ]
  },
  {
   "cell_type": "markdown",
   "id": "9b64b15b",
   "metadata": {
    "papermill": {
     "duration": 0.031376,
     "end_time": "2023-08-07T09:40:50.728355",
     "exception": false,
     "start_time": "2023-08-07T09:40:50.696979",
     "status": "completed"
    },
    "tags": []
   },
   "source": [
    "## `Observation:`\n",
    "Clearly, there is a less variation in number of votes in India. People tend to give less feedbacks in India"
   ]
  },
  {
   "cell_type": "markdown",
   "id": "94ebfec5",
   "metadata": {
    "papermill": {
     "duration": 0.031117,
     "end_time": "2023-08-07T09:40:50.789454",
     "exception": false,
     "start_time": "2023-08-07T09:40:50.758337",
     "status": "completed"
    },
    "tags": []
   },
   "source": [
    "## 5.6 Understanding Cuisines"
   ]
  },
  {
   "cell_type": "code",
   "execution_count": 35,
   "id": "4cefe60d",
   "metadata": {
    "execution": {
     "iopub.execute_input": "2023-08-07T09:40:50.852555Z",
     "iopub.status.busy": "2023-08-07T09:40:50.852093Z",
     "iopub.status.idle": "2023-08-07T09:40:50.859763Z",
     "shell.execute_reply": "2023-08-07T09:40:50.858781Z"
    },
    "papermill": {
     "duration": 0.043363,
     "end_time": "2023-08-07T09:40:50.862869",
     "exception": false,
     "start_time": "2023-08-07T09:40:50.819506",
     "status": "completed"
    },
    "tags": []
   },
   "outputs": [],
   "source": [
    "def get_cuisines(clean_data,country):\n",
    "    \n",
    "    df = clean_data[clean_data['Country']==country]\n",
    "    top_10 = df['Cuisines'].value_counts().nlargest(10)\n",
    "    total = len(df)\n",
    "    cuisine_type = np.array(top_10.keys())\n",
    "    cuisine_count = np.array(top_10.values)\n",
    "    \n",
    "    cuisine_count = (cuisine_count/total)*100\n",
    "    cuisine_count = np.round(cuisine_count,decimals=2)\n",
    " \n",
    "    \n",
    "    fig = plt.figure(figsize=(12,8))\n",
    "    plt.title(f'%DISTRIBUTION OF TOP 10 CUISINES IN {country.upper()}')\n",
    "    plt.xlabel('Cuisines')\n",
    "    plt.ylabel('% Count')\n",
    "    plt.xticks(rotation=90)\n",
    "    ax = sns.barplot(x=cuisine_type,y=cuisine_count)\n",
    "    #ax = sns.countplot(x='Cuisines',data=df,order=top_10.index)\n",
    "    ax.bar_label(ax.containers[0])\n",
    "    plt.show()\n",
    "\n"
   ]
  },
  {
   "cell_type": "markdown",
   "id": "cbdafd65",
   "metadata": {
    "papermill": {
     "duration": 0.029233,
     "end_time": "2023-08-07T09:40:50.922744",
     "exception": false,
     "start_time": "2023-08-07T09:40:50.893511",
     "status": "completed"
    },
    "tags": []
   },
   "source": [
    "### 5.6.1 Top 10 Cuisines in India"
   ]
  },
  {
   "cell_type": "code",
   "execution_count": 36,
   "id": "6086d7b7",
   "metadata": {
    "execution": {
     "iopub.execute_input": "2023-08-07T09:40:50.985394Z",
     "iopub.status.busy": "2023-08-07T09:40:50.984645Z",
     "iopub.status.idle": "2023-08-07T09:40:51.408311Z",
     "shell.execute_reply": "2023-08-07T09:40:51.407152Z"
    },
    "papermill": {
     "duration": 0.457983,
     "end_time": "2023-08-07T09:40:51.410653",
     "exception": false,
     "start_time": "2023-08-07T09:40:50.952670",
     "status": "completed"
    },
    "tags": []
   },
   "outputs": [
    {
     "data": {
      "image/png": "[encoded data removed]",
      "text/plain": [
       "<Figure size 864x576 with 1 Axes>"
      ]
     },
     "metadata": {
      "needs_background": "light"
     },
     "output_type": "display_data"
    }
   ],
   "source": [
    "get_cuisines(clean_data,'India')"
   ]
  },
  {
   "cell_type": "markdown",
   "id": "fc31522d",
   "metadata": {
    "papermill": {
     "duration": 0.030046,
     "end_time": "2023-08-07T09:40:51.470888",
     "exception": false,
     "start_time": "2023-08-07T09:40:51.440842",
     "status": "completed"
    },
    "tags": []
   },
   "source": [
    "## `Observation:`\n",
    "Clearly, North Indian food tend to dominate the market. But this might be because the data is concentrated more in North Indian States!! Lets verify"
   ]
  },
  {
   "cell_type": "code",
   "execution_count": 37,
   "id": "61d695d6",
   "metadata": {
    "execution": {
     "iopub.execute_input": "2023-08-07T09:40:51.536416Z",
     "iopub.status.busy": "2023-08-07T09:40:51.535302Z",
     "iopub.status.idle": "2023-08-07T09:40:51.919302Z",
     "shell.execute_reply": "2023-08-07T09:40:51.917810Z"
    },
    "papermill": {
     "duration": 0.41967,
     "end_time": "2023-08-07T09:40:51.922179",
     "exception": false,
     "start_time": "2023-08-07T09:40:51.502509",
     "status": "completed"
    },
    "tags": []
   },
   "outputs": [
    {
     "data": {
      "image/png": "[encoded data removed]",
      "text/plain": [
       "<Figure size 864x576 with 1 Axes>"
      ]
     },
     "metadata": {
      "needs_background": "light"
     },
     "output_type": "display_data"
    }
   ],
   "source": [
    "df = clean_data[clean_data['Country']=='India']\n",
    "fig = plt.figure(figsize=(12,8))\n",
    "plt.title('TOP 10 FOODIE CITIES IN INDIA')\n",
    "plt.xlabel('Count of Resteraunts')\n",
    "plt.ylabel('City')\n",
    "top_10 = df['City'].value_counts().nlargest(10)\n",
    "ax = sns.barplot(x=top_10.values,y=top_10.index) \n",
    "ax.bar_label(ax.containers[0])\n",
    "plt.show()"
   ]
  },
  {
   "cell_type": "markdown",
   "id": "12eee198",
   "metadata": {
    "papermill": {
     "duration": 0.033158,
     "end_time": "2023-08-07T09:40:51.987814",
     "exception": false,
     "start_time": "2023-08-07T09:40:51.954656",
     "status": "completed"
    },
    "tags": []
   },
   "source": [
    "## `Observation:`\n",
    "We can see that most of restaurants are located in Delhi- NCR Region and thats why the popularity of North Indian food is validated"
   ]
  },
  {
   "cell_type": "markdown",
   "id": "b88cb745",
   "metadata": {
    "papermill": {
     "duration": 0.030638,
     "end_time": "2023-08-07T09:40:52.049004",
     "exception": false,
     "start_time": "2023-08-07T09:40:52.018366",
     "status": "completed"
    },
    "tags": []
   },
   "source": [
    "### 5.6.2 Top 10 Cuisines in USA"
   ]
  },
  {
   "cell_type": "code",
   "execution_count": 38,
   "id": "69fd40a9",
   "metadata": {
    "execution": {
     "iopub.execute_input": "2023-08-07T09:40:52.117218Z",
     "iopub.status.busy": "2023-08-07T09:40:52.116171Z",
     "iopub.status.idle": "2023-08-07T09:40:52.533408Z",
     "shell.execute_reply": "2023-08-07T09:40:52.532222Z"
    },
    "papermill": {
     "duration": 0.455288,
     "end_time": "2023-08-07T09:40:52.536198",
     "exception": false,
     "start_time": "2023-08-07T09:40:52.080910",
     "status": "completed"
    },
    "tags": []
   },
   "outputs": [
    {
     "data": {
      "image/png": "[encoded data removed]",
      "text/plain": [
       "<Figure size 864x576 with 1 Axes>"
      ]
     },
     "metadata": {
      "needs_background": "light"
     },
     "output_type": "display_data"
    }
   ],
   "source": [
    "get_cuisines(clean_data,'United States')"
   ]
  },
  {
   "cell_type": "markdown",
   "id": "58d4ca59",
   "metadata": {
    "papermill": {
     "duration": 0.032773,
     "end_time": "2023-08-07T09:40:52.601617",
     "exception": false,
     "start_time": "2023-08-07T09:40:52.568844",
     "status": "completed"
    },
    "tags": []
   },
   "source": [
    "## `Observation:`\n",
    "We can see that Mexican cuisines is most popular among the folks in USA, but there is not much difference in popularity of other cuisines like American, Chinese etc"
   ]
  },
  {
   "cell_type": "markdown",
   "id": "5479d653",
   "metadata": {
    "papermill": {
     "duration": 0.033154,
     "end_time": "2023-08-07T09:40:52.667156",
     "exception": false,
     "start_time": "2023-08-07T09:40:52.634002",
     "status": "completed"
    },
    "tags": []
   },
   "source": [
    "### 5.7 Which country has the cheaper food?\n",
    "\n"
   ]
  },
  {
   "cell_type": "code",
   "execution_count": 39,
   "id": "329f5691",
   "metadata": {
    "execution": {
     "iopub.execute_input": "2023-08-07T09:40:52.736605Z",
     "iopub.status.busy": "2023-08-07T09:40:52.735854Z",
     "iopub.status.idle": "2023-08-07T09:40:52.742216Z",
     "shell.execute_reply": "2023-08-07T09:40:52.740998Z"
    },
    "papermill": {
     "duration": 0.043358,
     "end_time": "2023-08-07T09:40:52.744878",
     "exception": false,
     "start_time": "2023-08-07T09:40:52.701520",
     "status": "completed"
    },
    "tags": []
   },
   "outputs": [],
   "source": [
    "def convert_to_dollar(value, currency):\n",
    "    # Dictionary of currency conversion rates with respect to Dollar\n",
    "    conversion_rates = {\n",
    "        'Botswana Pula(P)': 0.092,\n",
    "        'Brazilian Real(R$)': 0.192,\n",
    "        'Dollar($)': 1.0,\n",
    "        'Emirati Diram(AED)': 0.272,\n",
    "        'Indian Rupees(Rs.)': 0.014,\n",
    "        'NewZealand($)': 0.706,\n",
    "        'Pounds(\\x8c£)': 1.38,\n",
    "        'Qatari Rial(QR)': 0.27,\n",
    "        'Rand(R)': 0.068,\n",
    "        'Sri Lankan Rupee(LKR)': 0.0053,\n",
    "        'Turkish Lira(TL)': 0.12\n",
    "    }\n",
    "\n",
    "    # Convert the value to Dollar\n",
    "    if currency in conversion_rates:\n",
    "        value_in_dollar = value * conversion_rates[currency]\n",
    "        return value_in_dollar\n",
    "    else:\n",
    "        return None "
   ]
  },
  {
   "cell_type": "code",
   "execution_count": 40,
   "id": "a480d04a",
   "metadata": {
    "execution": {
     "iopub.execute_input": "2023-08-07T09:40:52.812570Z",
     "iopub.status.busy": "2023-08-07T09:40:52.812164Z",
     "iopub.status.idle": "2023-08-07T09:40:52.936165Z",
     "shell.execute_reply": "2023-08-07T09:40:52.935007Z"
    },
    "papermill": {
     "duration": 0.160835,
     "end_time": "2023-08-07T09:40:52.938958",
     "exception": false,
     "start_time": "2023-08-07T09:40:52.778123",
     "status": "completed"
    },
    "tags": []
   },
   "outputs": [],
   "source": [
    "clean_data['Average Cost for two ($)'] = clean_data.apply(lambda x:convert_to_dollar(x['Average Cost for two'],x['Currency']),axis=1)"
   ]
  },
  {
   "cell_type": "code",
   "execution_count": 41,
   "id": "b3d09659",
   "metadata": {
    "execution": {
     "iopub.execute_input": "2023-08-07T09:40:53.004847Z",
     "iopub.status.busy": "2023-08-07T09:40:53.004407Z",
     "iopub.status.idle": "2023-08-07T09:40:53.487278Z",
     "shell.execute_reply": "2023-08-07T09:40:53.485884Z"
    },
    "papermill": {
     "duration": 0.518496,
     "end_time": "2023-08-07T09:40:53.489834",
     "exception": false,
     "start_time": "2023-08-07T09:40:52.971338",
     "status": "completed"
    },
    "tags": []
   },
   "outputs": [
    {
     "data": {
      "image/png": "[encoded data removed]",
      "text/plain": [
       "<Figure size 864x720 with 1 Axes>"
      ]
     },
     "metadata": {
      "needs_background": "light"
     },
     "output_type": "display_data"
    }
   ],
   "source": [
    "fig = plt.figure(figsize=(12,10))\n",
    "plt.title('Average Price for Two Across Countries')\n",
    "plt.xlabel('Mean Average Cost for Two ($)')\n",
    "plt.ylabel('Country')\n",
    "avg_cost = clean_data.groupby('Country').mean()['Average Cost for two ($)']\n",
    "avg_cost = avg_cost.sort_values(ascending=False)\n",
    "avg_cost = avg_cost.round(2)\n",
    "ax = sns.barplot(x=avg_cost.values,y=avg_cost.index) \n",
    "ax.bar_label(ax.containers[0])\n",
    "plt.show()"
   ]
  },
  {
   "cell_type": "markdown",
   "id": "6e7452a1",
   "metadata": {
    "papermill": {
     "duration": 0.036866,
     "end_time": "2023-08-07T09:40:53.563443",
     "exception": false,
     "start_time": "2023-08-07T09:40:53.526577",
     "status": "completed"
    },
    "tags": []
   },
   "source": [
    "## `Observation:`\n",
    "Here we can observe that if we consider \"Average Cost for Two (Dollar)\", then Singapore tends to serve most expensive food across all countries whereas India tends to serve cheapest of all.\n"
   ]
  },
  {
   "cell_type": "markdown",
   "id": "b92b7642",
   "metadata": {
    "papermill": {
     "duration": 0.034469,
     "end_time": "2023-08-07T09:40:53.633727",
     "exception": false,
     "start_time": "2023-08-07T09:40:53.599258",
     "status": "completed"
    },
    "tags": []
   },
   "source": [
    "### 5.7 Distibution of Avg Cost for Two across all Price range\n",
    "\n"
   ]
  },
  {
   "cell_type": "code",
   "execution_count": 42,
   "id": "e3aaeb47",
   "metadata": {
    "execution": {
     "iopub.execute_input": "2023-08-07T09:40:53.703718Z",
     "iopub.status.busy": "2023-08-07T09:40:53.702630Z",
     "iopub.status.idle": "2023-08-07T09:40:55.509753Z",
     "shell.execute_reply": "2023-08-07T09:40:55.508450Z"
    },
    "papermill": {
     "duration": 1.845859,
     "end_time": "2023-08-07T09:40:55.512494",
     "exception": false,
     "start_time": "2023-08-07T09:40:53.666635",
     "status": "completed"
    },
    "tags": []
   },
   "outputs": [
    {
     "data": {
      "image/png": "[encoded data removed]",
      "text/plain": [
       "<Figure size 1152x864 with 4 Axes>"
      ]
     },
     "metadata": {
      "needs_background": "light"
     },
     "output_type": "display_data"
    }
   ],
   "source": [
    "grouped_data = clean_data.groupby(['Country', 'Price range'])['Average Cost for two ($)'].mean().reset_index()\n",
    "\n",
    "# Get the unique price range values\n",
    "price_ranges = sorted(grouped_data['Price range'].unique())\n",
    "\n",
    "# Create the subplots for each price range\n",
    "fig, axs = plt.subplots(2, 2, figsize=(16, 12), sharex=True, sharey=True)\n",
    "\n",
    "# Flatten the axes for easier indexing\n",
    "axs = axs.ravel()\n",
    "\n",
    "# Create the partitioned bar plots for each price range value\n",
    "for i, price_range in enumerate(price_ranges):\n",
    "    filtered_data = grouped_data[grouped_data['Price range'] == price_range]\n",
    "    sns.barplot(x='Average Cost for two ($)', y='Country', data=filtered_data, hue='Price range', palette='viridis', ax=axs[i])\n",
    "    axs[i].set_title(f'Price Range {price_range}')\n",
    "    axs[i].legend(title='Price Range', title_fontsize='large')\n",
    "    axs[i].set_xlabel('Mean Average Cost for Two ($)')\n",
    "    axs[i].set_ylabel('Country')\n",
    "\n",
    "plt.suptitle('Mean Average Cost for Two Across Countries for Each Price Range', fontsize=16)\n",
    "plt.tight_layout(rect=[0, 0.03, 1, 0.95])\n",
    "plt.show()"
   ]
  },
  {
   "cell_type": "markdown",
   "id": "22f7951d",
   "metadata": {
    "papermill": {
     "duration": 0.036843,
     "end_time": "2023-08-07T09:40:55.585640",
     "exception": false,
     "start_time": "2023-08-07T09:40:55.548797",
     "status": "completed"
    },
    "tags": []
   },
   "source": [
    "## `Observation:`\n",
    "\n",
    "40% of restaurants across geographies fall into the cheaper price range of 1, with 32%, 14%, 6% of restaurants falling into 2,3,4 respectively, this is because Indian price range 1 restaurants are dominating the dataset. Similar distribution can be found for Indian restaurants as well.\n",
    "\n",
    "\n",
    "Overall Philippines, the UK, and Singapore have higher food prices(Price range 4) and Indonesia, Turkey and Sri Lanka (price range 2) have lower prices."
   ]
  },
  {
   "cell_type": "markdown",
   "id": "a933d8fd",
   "metadata": {
    "papermill": {
     "duration": 0.037665,
     "end_time": "2023-08-07T09:40:55.657955",
     "exception": false,
     "start_time": "2023-08-07T09:40:55.620290",
     "status": "completed"
    },
    "tags": []
   },
   "source": [
    "### 5.8 Top 10 Expensive Restaurants in India\n",
    "\n"
   ]
  },
  {
   "cell_type": "code",
   "execution_count": 43,
   "id": "e82f39f4",
   "metadata": {
    "execution": {
     "iopub.execute_input": "2023-08-07T09:40:55.731202Z",
     "iopub.status.busy": "2023-08-07T09:40:55.729788Z",
     "iopub.status.idle": "2023-08-07T09:40:55.737391Z",
     "shell.execute_reply": "2023-08-07T09:40:55.735865Z"
    },
    "papermill": {
     "duration": 0.046183,
     "end_time": "2023-08-07T09:40:55.739824",
     "exception": false,
     "start_time": "2023-08-07T09:40:55.693641",
     "status": "completed"
    },
    "tags": []
   },
   "outputs": [],
   "source": [
    "def get_expensive(clean_data,country):\n",
    "    top_10 = clean_data[clean_data['Country']==country].groupby('Restaurant Name').max()['Average Cost for two ($)'].nlargest(10)\n",
    "    names = top_10.index\n",
    "    cost = top_10.values\n",
    "    fig = plt.figure(figsize=(12,10))\n",
    "    plt.title(f'TOP 10 EXPENSIVE RESTERAUNTS IN {country} ')\n",
    "    plt.xlabel('Mean Average Cost for Two ($)')\n",
    "    plt.ylabel('Restaurant Name')\n",
    "    ax = sns.barplot(x=cost,y=names) \n",
    "    ax.bar_label(ax.containers[0])\n",
    "    plt.show()"
   ]
  },
  {
   "cell_type": "code",
   "execution_count": 44,
   "id": "3562857b",
   "metadata": {
    "execution": {
     "iopub.execute_input": "2023-08-07T09:40:55.816562Z",
     "iopub.status.busy": "2023-08-07T09:40:55.815803Z",
     "iopub.status.idle": "2023-08-07T09:41:02.717385Z",
     "shell.execute_reply": "2023-08-07T09:41:02.716225Z"
    },
    "papermill": {
     "duration": 6.942401,
     "end_time": "2023-08-07T09:41:02.719869",
     "exception": false,
     "start_time": "2023-08-07T09:40:55.777468",
     "status": "completed"
    },
    "tags": []
   },
   "outputs": [
    {
     "data": {
      "image/png": "[encoded data removed]",
      "text/plain": [
       "<Figure size 864x720 with 1 Axes>"
      ]
     },
     "metadata": {
      "needs_background": "light"
     },
     "output_type": "display_data"
    }
   ],
   "source": [
    "get_expensive(clean_data,'India')"
   ]
  },
  {
   "cell_type": "markdown",
   "id": "d5a9057c",
   "metadata": {
    "papermill": {
     "duration": 0.036083,
     "end_time": "2023-08-07T09:41:02.791019",
     "exception": false,
     "start_time": "2023-08-07T09:41:02.754936",
     "status": "completed"
    },
    "tags": []
   },
   "source": [
    "### 5.9 Distribution of Price Ranges\n",
    "\n"
   ]
  },
  {
   "cell_type": "code",
   "execution_count": 45,
   "id": "4314aa3b",
   "metadata": {
    "execution": {
     "iopub.execute_input": "2023-08-07T09:41:02.865341Z",
     "iopub.status.busy": "2023-08-07T09:41:02.864610Z",
     "iopub.status.idle": "2023-08-07T09:41:03.013486Z",
     "shell.execute_reply": "2023-08-07T09:41:03.012239Z"
    },
    "papermill": {
     "duration": 0.188863,
     "end_time": "2023-08-07T09:41:03.016467",
     "exception": false,
     "start_time": "2023-08-07T09:41:02.827604",
     "status": "completed"
    },
    "tags": []
   },
   "outputs": [
    {
     "data": {
      "image/png": "[encoded data removed]",
      "text/plain": [
       "<Figure size 432x288 with 1 Axes>"
      ]
     },
     "metadata": {},
     "output_type": "display_data"
    }
   ],
   "source": [
    "clean_data['Price range'].value_counts().plot(kind='pie', autopct = '%.2f',\n",
    "                                              radius=1,startangle=50,counterclock=True,\n",
    "                                              explode=[0.05,0.05,0.05,0.05],colors=['#ff9999', '#66b3ff', '#99ff99', '#ffcc99'])\n",
    "plt.show()\n"
   ]
  },
  {
   "cell_type": "markdown",
   "id": "e1294e34",
   "metadata": {
    "papermill": {
     "duration": 0.037911,
     "end_time": "2023-08-07T09:41:03.118784",
     "exception": false,
     "start_time": "2023-08-07T09:41:03.080873",
     "status": "completed"
    },
    "tags": []
   },
   "source": [
    "## `Observation:`\n",
    "\n",
    "Here we can see that 47% of the data falls under price range 1 and 32% of it falls under price range 2. This might be because dataset is dominating with Indian Restaurants"
   ]
  },
  {
   "cell_type": "code",
   "execution_count": null,
   "id": "8ee8f6eb",
   "metadata": {
    "papermill": {
     "duration": 0.039158,
     "end_time": "2023-08-07T09:41:04.352066",
     "exception": false,
     "start_time": "2023-08-07T09:41:04.312908",
     "status": "completed"
    },
    "tags": []
   },
   "outputs": [],
   "source": []
  }
 ],
 "metadata": {
  "kernelspec": {
   "display_name": "Python 3 (ipykernel)",
   "language": "python",
   "name": "python3"
  },
  "language_info": {
   "codemirror_mode": {
    "name": "ipython",
    "version": 3
   },
   "file_extension": ".py",
   "mimetype": "text/x-python",
   "name": "python",
   "nbconvert_exporter": "python",
   "pygments_lexer": "ipython3",
   "version": "3.9.12"
  },
  "papermill": {
   "default_parameters": {},
   "duration": 37.196136,
   "end_time": "2023-08-07T09:41:05.515603",
   "environment_variables": {},
   "exception": null,
   "input_path": "__notebook__.ipynb",
   "output_path": "__notebook__.ipynb",
   "parameters": {},
   "start_time": "2023-08-07T09:40:28.319467",
   "version": "2.4.0"
  }
 },
 "nbformat": 4,
 "nbformat_minor": 5
}
